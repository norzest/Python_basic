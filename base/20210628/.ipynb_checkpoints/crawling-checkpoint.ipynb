{
 "cells": [
  {
   "cell_type": "code",
   "execution_count": 5,
   "metadata": {},
   "outputs": [
    {
     "name": "stdout",
     "output_type": "stream",
     "text": [
      "img =  https://imgnews.pstatic.net/image/origin/091/2021/06/28/8824589.jpg?type=nf106_72\n",
      "-------------------------------\n",
      "No image\n",
      "-------------------------------\n",
      "img =  https://imgnews.pstatic.net/image/origin/366/2021/06/28/739645.jpg?type=nf106_72\n",
      "-------------------------------\n",
      "img =  https://imgnews.pstatic.net/image/origin/374/2021/06/28/249047.jpg?type=nf106_72\n",
      "-------------------------------\n",
      "img =  https://imgnews.pstatic.net/image/origin/366/2021/06/28/739644.jpg?type=nf106_72\n",
      "-------------------------------\n",
      "img =  https://imgnews.pstatic.net/image/origin/079/2021/06/28/3521612.jpg?type=nf106_72\n",
      "-------------------------------\n",
      "img =  https://imgnews.pstatic.net/image/origin/119/2021/06/28/2505973.jpg?type=nf106_72\n",
      "-------------------------------\n",
      "img =  https://imgnews.pstatic.net/image/origin/119/2021/06/28/2505972.jpg?type=nf106_72\n",
      "-------------------------------\n",
      "No image\n",
      "-------------------------------\n",
      "img =  https://imgnews.pstatic.net/image/origin/079/2021/06/28/3521611.jpg?type=nf106_72\n",
      "-------------------------------\n"
     ]
    }
   ],
   "source": [
    "import requests\n",
    "from bs4 import BeautifulSoup\n",
    "headers = { \"User-Agent\":\"Mozilla/5.0\" }\n",
    "url = \"http://news.naver.com/main/list.nhn?mode=LSD&mid=sec&sid1=001\"\n",
    "html = requests.get(url, headers = headers ).text\n",
    "soup = BeautifulSoup(html, \"html.parser\")\n",
    "type06 = soup.find(\"ul\", {\"class\" : \"type06_headline\"})\n",
    "\n",
    "dl = type06.find_all(\"dl\") \n",
    "for item2 in dl:\n",
    "    try: \n",
    "        img = item2.find(\"dt\", {\"class\" : \"photo\"}).find(\"img\")\n",
    "        print(\"img = \", img[\"src\"])\n",
    "        print (\"-------------------------------\") \n",
    "    except:\n",
    "        print(\"No image\")\n",
    "        print (\"-------------------------------\")"
   ]
  },
  {
   "cell_type": "code",
   "execution_count": 8,
   "metadata": {},
   "outputs": [
    {
     "name": "stdout",
     "output_type": "stream",
     "text": [
      "https://news.naver.com/main/read.nhn?mode=LSD&mid=sec&sid1=001&oid=091&aid=0008824589\n",
      " CHINA COMMUNIST PARTY CENTENARY\n",
      "https://news.naver.com/main/read.nhn?mode=LSD&mid=sec&sid1=001&oid=374&aid=0000249048\n",
      " 공정위, 생활용품·화장품 등 6개업종 '대리점 갑질' 조사\n",
      "https://news.naver.com/main/read.nhn?mode=LSD&mid=sec&sid1=001&oid=366&aid=0000739645\n",
      " 재판부, ‘내부통제’ 중징계 기준 지적… 금감원 패소 가능성 불거져\n",
      "https://news.naver.com/main/read.nhn?mode=LSD&mid=sec&sid1=001&oid=374&aid=0000249047\n",
      " 코엑스·잠실 야구장 등 전국 10곳에서 '진짜 5G' 시범 운영한다\n",
      "https://news.naver.com/main/read.nhn?mode=LSD&mid=sec&sid1=001&oid=366&aid=0000739644\n",
      " 군 부대 이어 경찰에서도 ‘부실 급식’ 논란\n",
      "https://news.naver.com/main/read.nhn?mode=LSD&mid=sec&sid1=001&oid=079&aid=0003521612\n",
      " 충남소방본부, 수동식 화재진압장비 '완용펌프'서 다양한 문양 발견\n",
      "https://news.naver.com/main/read.nhn?mode=LSD&mid=sec&sid1=001&oid=119&aid=0002505973\n",
      " 배현진, 문재인 대통령 아들 문준용씨 관련 기자회견\n",
      "https://news.naver.com/main/read.nhn?mode=LSD&mid=sec&sid1=001&oid=119&aid=0002505972\n",
      " [2021 하반기경제정책] 공공기관 주도 10대 협업과제 하반기 속도 높인다\n",
      "https://news.naver.com/main/read.nhn?mode=LSD&mid=sec&sid1=001&oid=018&aid=0004970317\n",
      " 에스퓨얼셀, 에스에너지에 115억원 규모 채무보증 결정\n",
      "https://news.naver.com/main/read.nhn?mode=LSD&mid=sec&sid1=001&oid=079&aid=0003521611\n",
      " '만취상태' 전동킥보드 타다 뺑소니 낸 주한미군 체포\n",
      "China to mark 100th founding anniversary of the Chinese Communist Party …EPA연합뉴스1분전\n",
      "공정거래위원회는 한국개발연구원(KDI)과 함께 기계, 사료, 생활용품, 주류, 페인트, 화장품 6개 업종의 대리점거래 실태조사를 …SBS Biz1분전\n",
      "25일 손태승 vs 금융감독원 마지막 변론 재판부 “실효성은 추상적인 개념… 금감원이 대원칙 제시해야” 금융감독원이 파생결합펀드 …조선비즈1분전\n",
      "임혜숙 과학기술정보통신부 장관과 이동통신 3사 CEO가 28GHz 5G망 활성화에 나섰습니다. 임혜숙 과기정통부 장관과 이동통신 …SBS Biz1분전\n",
      "부실 급식 문제는 군대에만 있는 줄 알았다. 가뜩이나 길거리나 버스에서 쭈그려 앉아 먹는데 밥까지 부실하니 서럽다. 지휘부는 이 …조선비즈1분전\n",
      "[예산 홍성=대전CBS 김화영 기자] 개항 이후 도입돼 1980년대까지 100여 년 이상 활용되었던 수동식 화재진압장비인 완용펌 …노컷뉴스1분전\n",
      "국민의힘 배현진 최고위원이 28일 국회 소통관에서 문재인 대통령의 아들 문준용씨와 관련 기자회견을 하고 있다.데일리안1분전\n",
      "정부는 하반기에도 국가균형발전 프로젝트 등 이미 발표한 주요 대책을 성실히 추진해 경기 회복에 박차를 가한다는 계획이다. 28일 …데일리안1분전\n",
      "[이데일리 권효중 기자] 에스퓨얼셀(288620)은 지배기업인 에스에너지에 대해 약 115억원 규모의 채무 보증을 결정했다고 2 …이데일리1분전\n",
      "[CBS노컷뉴스 서민선 기자] 술에 만취한 상태로 전동킥보드를 타다가 행인을 치고 달아난 주한미군이 경찰에 붙잡혔다. 28일 서 …노컷뉴스1분전\n"
     ]
    }
   ],
   "source": [
    "for item2 in dl: \n",
    "    link = item2.find(\"dt\", {\"class\" : \"\"}).find(\"a\")\n",
    "    print(link[\"href\"])\n",
    "    print(link.text.replace(\"\\t\", \"\").replace(\"\\n\", \"\")[1:len(link.text)+1])\n",
    "\n",
    "for item2 in dl:\n",
    "    try:\n",
    "        content = item2.find(\"dd\")\n",
    "        print(content.text.replace(\"\\t\",\"\").replace(\"\\n\",\"\").split(\"...\")[0])\n",
    "    except:\n",
    "        print(\"No Content\")"
   ]
  }
 ],
 "metadata": {
  "kernelspec": {
   "display_name": "Python 3",
   "language": "python",
   "name": "python3"
  },
  "language_info": {
   "codemirror_mode": {
    "name": "ipython",
    "version": 3
   },
   "file_extension": ".py",
   "mimetype": "text/x-python",
   "name": "python",
   "nbconvert_exporter": "python",
   "pygments_lexer": "ipython3",
   "version": "3.7.7"
  }
 },
 "nbformat": 4,
 "nbformat_minor": 4
}
