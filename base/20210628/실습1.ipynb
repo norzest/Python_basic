{
 "cells": [
  {
   "cell_type": "markdown",
   "metadata": {},
   "source": [
    "1. 10~15 까지 숫자의 개수는\n",
    " - 10 -> 1, 0 ; 11 -> 1, 1; 12 -> 1, 2\n",
    " - 13 -> 1, 3 ; 14 -> 1, 4; 15 - > 1, 5\n",
    "\n",
    "0 1개 1 7개 2 1개 3 1개 4 1개 5 1개"
   ]
  },
  {
   "cell_type": "code",
   "execution_count": 16,
   "metadata": {},
   "outputs": [
    {
     "name": "stdout",
     "output_type": "stream",
     "text": [
      "{0: 192, 1: 301, 2: 300, 3: 300, 4: 300, 5: 300, 6: 300, 7: 300, 8: 300, 9: 300}\n"
     ]
    }
   ],
   "source": [
    "n = 1 \n",
    "m = 1000\n",
    "\n",
    "dict = {i : 0 for i in range(10)}\n",
    "for i in range(n, m+1):\n",
    "    for j in str(i):\n",
    "        dict[int(j)] += 1\n",
    "\n",
    "print(dict)"
   ]
  },
  {
   "cell_type": "code",
   "execution_count": null,
   "metadata": {},
   "outputs": [],
   "source": []
  }
 ],
 "metadata": {
  "kernelspec": {
   "display_name": "Python 3",
   "language": "python",
   "name": "python3"
  },
  "language_info": {
   "codemirror_mode": {
    "name": "ipython",
    "version": 3
   },
   "file_extension": ".py",
   "mimetype": "text/x-python",
   "name": "python",
   "nbconvert_exporter": "python",
   "pygments_lexer": "ipython3",
   "version": "3.7.7"
  }
 },
 "nbformat": 4,
 "nbformat_minor": 4
}
