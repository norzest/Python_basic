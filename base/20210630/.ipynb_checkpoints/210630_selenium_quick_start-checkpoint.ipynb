{
 "cells": [
  {
   "cell_type": "code",
   "execution_count": null,
   "id": "389b254a",
   "metadata": {},
   "outputs": [],
   "source": [
    "# https://selenium-python.readthedocs.io/getting-started.html"
   ]
  },
  {
   "cell_type": "code",
   "execution_count": 4,
   "id": "8855bd5b",
   "metadata": {},
   "outputs": [],
   "source": [
    "my_id = \"jswoo100@empas.com\"\n",
    "my_pw = \"akrhr701!@!@\""
   ]
  },
  {
   "cell_type": "code",
   "execution_count": null,
   "id": "f74c45ac",
   "metadata": {},
   "outputs": [],
   "source": []
  },
  {
   "cell_type": "code",
   "execution_count": null,
   "id": "278091d9",
   "metadata": {},
   "outputs": [],
   "source": [
    "# conda  install  selenium \n",
    "from selenium import webdriver"
   ]
  },
  {
   "cell_type": "code",
   "execution_count": null,
   "id": "993b7045",
   "metadata": {},
   "outputs": [],
   "source": [
    "driver = webdriver.Chrome(\"c:/jswoo/chromedriver\")"
   ]
  },
  {
   "cell_type": "code",
   "execution_count": null,
   "id": "d29c56a7",
   "metadata": {},
   "outputs": [],
   "source": [
    "driver.get(\"http://www.python.org\")"
   ]
  },
  {
   "cell_type": "code",
   "execution_count": null,
   "id": "0cf4e5e9",
   "metadata": {},
   "outputs": [],
   "source": [
    "driver.title"
   ]
  },
  {
   "cell_type": "code",
   "execution_count": null,
   "id": "6cf919c5",
   "metadata": {},
   "outputs": [],
   "source": [
    "assert \"Python\" in driver.title"
   ]
  },
  {
   "cell_type": "code",
   "execution_count": null,
   "id": "ffd00cf8",
   "metadata": {},
   "outputs": [],
   "source": [
    "elem = driver.find_element_by_name(\"q\")\n",
    "\n",
    "elem.clear()\n",
    "elem.send_keys(\"pycon\")\n",
    "\n",
    "from selenium.webdriver.common.keys import Keys\n",
    "elem.send_keys(Keys.RETURN)"
   ]
  },
  {
   "cell_type": "code",
   "execution_count": null,
   "id": "9ce5ae6b",
   "metadata": {},
   "outputs": [],
   "source": [
    "assert \"No results found.\" not in driver.page_source"
   ]
  },
  {
   "cell_type": "code",
   "execution_count": null,
   "id": "280b7a45",
   "metadata": {},
   "outputs": [],
   "source": [
    "#top > nav > ul > li"
   ]
  },
  {
   "cell_type": "code",
   "execution_count": null,
   "id": "122e82b1",
   "metadata": {},
   "outputs": [],
   "source": [
    "menu = driver.find_elements_by_css_selector(\"#top > nav > ul > li\")\n",
    "print(menu)"
   ]
  },
  {
   "cell_type": "code",
   "execution_count": null,
   "id": "e23d6bae",
   "metadata": {},
   "outputs": [],
   "source": [
    "len(menu)"
   ]
  },
  {
   "cell_type": "code",
   "execution_count": null,
   "id": "f4b335f9",
   "metadata": {},
   "outputs": [],
   "source": [
    "menu[3].text"
   ]
  },
  {
   "cell_type": "code",
   "execution_count": null,
   "id": "0971cb41",
   "metadata": {},
   "outputs": [],
   "source": []
  },
  {
   "cell_type": "code",
   "execution_count": null,
   "id": "ec260e82",
   "metadata": {},
   "outputs": [],
   "source": [
    "pypi = \"\"\n",
    "for m in menu:\n",
    "    print(\"1 = \", m.text)\n",
    "    if m.text == \"PyPI\":\n",
    "        pypi=m \n",
    "        print(\"2 =\", m.text)\n",
    "        \n",
    "pypi.click()"
   ]
  },
  {
   "cell_type": "code",
   "execution_count": null,
   "id": "72ea023f",
   "metadata": {},
   "outputs": [],
   "source": [
    "pypi."
   ]
  },
  {
   "cell_type": "code",
   "execution_count": null,
   "id": "a3b43be1",
   "metadata": {},
   "outputs": [],
   "source": []
  },
  {
   "cell_type": "markdown",
   "id": "ef7e9c08",
   "metadata": {},
   "source": [
    "### ( google.com 접속 )"
   ]
  },
  {
   "cell_type": "code",
   "execution_count": null,
   "id": "203828d5",
   "metadata": {},
   "outputs": [],
   "source": [
    "driver = webdriver.Chrome(\"c:/jswoo/chromedriver\")\n",
    "\n",
    "driver.get(\"http://www.google.com\")"
   ]
  },
  {
   "cell_type": "code",
   "execution_count": null,
   "id": "d98e8122",
   "metadata": {},
   "outputs": [],
   "source": []
  },
  {
   "cell_type": "markdown",
   "id": "29b6f385",
   "metadata": {},
   "source": [
    "### (실습..  google \"파이썬 데이터분석\" 검색 실행)"
   ]
  },
  {
   "cell_type": "code",
   "execution_count": null,
   "id": "bd8c1797",
   "metadata": {},
   "outputs": [],
   "source": [
    "search = driver.find_element_by_name(\"q\")\n",
    "search.clear()\n",
    "\n",
    "search.send_keys(\"파이썬 데이터분석\")\n",
    "search.send_keys(Keys.RETURN)"
   ]
  },
  {
   "cell_type": "code",
   "execution_count": null,
   "id": "32ada01b",
   "metadata": {},
   "outputs": [],
   "source": [
    "source = driver.page_source\n",
    "#source"
   ]
  },
  {
   "cell_type": "code",
   "execution_count": null,
   "id": "ac0d5639",
   "metadata": {},
   "outputs": [],
   "source": []
  },
  {
   "cell_type": "code",
   "execution_count": 7,
   "id": "f487f057",
   "metadata": {},
   "outputs": [],
   "source": [
    "from selenium import webdriver\n",
    "from selenium.webdriver.common.keys import Keys\n",
    "\n",
    "driver = webdriver.Chrome(\"c:/jswoo/chromedriver\")\n",
    "url = \"https://www.nate.com\"\n",
    "driver.get(url)\n",
    "\n",
    "name_id = driver.find_element_by_name(\"ID\")\n",
    "name_id.clear()\n",
    "name_id.send_keys(my_id)\n",
    "\n",
    "name_id = driver.find_element_by_name(\"ID\")\n",
    "name_id.clear()\n",
    "name_id.send_keys(my_id)"
   ]
  },
  {
   "cell_type": "code",
   "execution_count": 8,
   "id": "4dc6290f",
   "metadata": {},
   "outputs": [],
   "source": [
    "name_id = driver.find_element_by_name(\"ID\")\n",
    "name_id.clear()\n",
    "name_id.send_keys(my_id)"
   ]
  },
  {
   "cell_type": "code",
   "execution_count": 21,
   "id": "0b9d1e92",
   "metadata": {},
   "outputs": [
    {
     "ename": "NoSuchElementException",
     "evalue": "Message: no such element: Unable to locate element: {\"method\":\"css selector\",\"selector\":\"[name=\"PASSDM\"]\"}\n  (Session info: chrome=91.0.4472.124)\n",
     "output_type": "error",
     "traceback": [
      "\u001b[1;31m---------------------------------------------------------------------------\u001b[0m",
      "\u001b[1;31mNoSuchElementException\u001b[0m                    Traceback (most recent call last)",
      "\u001b[1;32m<ipython-input-21-1ed0ffd4c956>\u001b[0m in \u001b[0;36m<module>\u001b[1;34m\u001b[0m\n\u001b[1;32m----> 1\u001b[1;33m \u001b[0mname_pw\u001b[0m \u001b[1;33m=\u001b[0m \u001b[0mdriver\u001b[0m\u001b[1;33m.\u001b[0m\u001b[0mfind_element_by_name\u001b[0m\u001b[1;33m(\u001b[0m\u001b[1;34m\"PASSDM\"\u001b[0m\u001b[1;33m)\u001b[0m\u001b[1;33m\u001b[0m\u001b[1;33m\u001b[0m\u001b[0m\n\u001b[0m\u001b[0;32m      2\u001b[0m \u001b[0mname_pw\u001b[0m\u001b[1;33m.\u001b[0m\u001b[0msend_keys\u001b[0m\u001b[1;33m(\u001b[0m\u001b[0mmy_pw\u001b[0m\u001b[1;33m,\u001b[0m \u001b[0mKeys\u001b[0m\u001b[1;33m.\u001b[0m\u001b[0mENTER\u001b[0m\u001b[1;33m)\u001b[0m\u001b[1;33m\u001b[0m\u001b[1;33m\u001b[0m\u001b[0m\n",
      "\u001b[1;32mC:\\Anaconda3\\lib\\site-packages\\selenium\\webdriver\\remote\\webdriver.py\u001b[0m in \u001b[0;36mfind_element_by_name\u001b[1;34m(self, name)\u001b[0m\n\u001b[0;32m    494\u001b[0m             \u001b[0melement\u001b[0m \u001b[1;33m=\u001b[0m \u001b[0mdriver\u001b[0m\u001b[1;33m.\u001b[0m\u001b[0mfind_element_by_name\u001b[0m\u001b[1;33m(\u001b[0m\u001b[1;34m'foo'\u001b[0m\u001b[1;33m)\u001b[0m\u001b[1;33m\u001b[0m\u001b[1;33m\u001b[0m\u001b[0m\n\u001b[0;32m    495\u001b[0m         \"\"\"\n\u001b[1;32m--> 496\u001b[1;33m         \u001b[1;32mreturn\u001b[0m \u001b[0mself\u001b[0m\u001b[1;33m.\u001b[0m\u001b[0mfind_element\u001b[0m\u001b[1;33m(\u001b[0m\u001b[0mby\u001b[0m\u001b[1;33m=\u001b[0m\u001b[0mBy\u001b[0m\u001b[1;33m.\u001b[0m\u001b[0mNAME\u001b[0m\u001b[1;33m,\u001b[0m \u001b[0mvalue\u001b[0m\u001b[1;33m=\u001b[0m\u001b[0mname\u001b[0m\u001b[1;33m)\u001b[0m\u001b[1;33m\u001b[0m\u001b[1;33m\u001b[0m\u001b[0m\n\u001b[0m\u001b[0;32m    497\u001b[0m \u001b[1;33m\u001b[0m\u001b[0m\n\u001b[0;32m    498\u001b[0m     \u001b[1;32mdef\u001b[0m \u001b[0mfind_elements_by_name\u001b[0m\u001b[1;33m(\u001b[0m\u001b[0mself\u001b[0m\u001b[1;33m,\u001b[0m \u001b[0mname\u001b[0m\u001b[1;33m)\u001b[0m\u001b[1;33m:\u001b[0m\u001b[1;33m\u001b[0m\u001b[1;33m\u001b[0m\u001b[0m\n",
      "\u001b[1;32mC:\\Anaconda3\\lib\\site-packages\\selenium\\webdriver\\remote\\webdriver.py\u001b[0m in \u001b[0;36mfind_element\u001b[1;34m(self, by, value)\u001b[0m\n\u001b[0;32m    974\u001b[0m                 \u001b[0mby\u001b[0m \u001b[1;33m=\u001b[0m \u001b[0mBy\u001b[0m\u001b[1;33m.\u001b[0m\u001b[0mCSS_SELECTOR\u001b[0m\u001b[1;33m\u001b[0m\u001b[1;33m\u001b[0m\u001b[0m\n\u001b[0;32m    975\u001b[0m                 \u001b[0mvalue\u001b[0m \u001b[1;33m=\u001b[0m \u001b[1;34m'[name=\"%s\"]'\u001b[0m \u001b[1;33m%\u001b[0m \u001b[0mvalue\u001b[0m\u001b[1;33m\u001b[0m\u001b[1;33m\u001b[0m\u001b[0m\n\u001b[1;32m--> 976\u001b[1;33m         return self.execute(Command.FIND_ELEMENT, {\n\u001b[0m\u001b[0;32m    977\u001b[0m             \u001b[1;34m'using'\u001b[0m\u001b[1;33m:\u001b[0m \u001b[0mby\u001b[0m\u001b[1;33m,\u001b[0m\u001b[1;33m\u001b[0m\u001b[1;33m\u001b[0m\u001b[0m\n\u001b[0;32m    978\u001b[0m             'value': value})['value']\n",
      "\u001b[1;32mC:\\Anaconda3\\lib\\site-packages\\selenium\\webdriver\\remote\\webdriver.py\u001b[0m in \u001b[0;36mexecute\u001b[1;34m(self, driver_command, params)\u001b[0m\n\u001b[0;32m    319\u001b[0m         \u001b[0mresponse\u001b[0m \u001b[1;33m=\u001b[0m \u001b[0mself\u001b[0m\u001b[1;33m.\u001b[0m\u001b[0mcommand_executor\u001b[0m\u001b[1;33m.\u001b[0m\u001b[0mexecute\u001b[0m\u001b[1;33m(\u001b[0m\u001b[0mdriver_command\u001b[0m\u001b[1;33m,\u001b[0m \u001b[0mparams\u001b[0m\u001b[1;33m)\u001b[0m\u001b[1;33m\u001b[0m\u001b[1;33m\u001b[0m\u001b[0m\n\u001b[0;32m    320\u001b[0m         \u001b[1;32mif\u001b[0m \u001b[0mresponse\u001b[0m\u001b[1;33m:\u001b[0m\u001b[1;33m\u001b[0m\u001b[1;33m\u001b[0m\u001b[0m\n\u001b[1;32m--> 321\u001b[1;33m             \u001b[0mself\u001b[0m\u001b[1;33m.\u001b[0m\u001b[0merror_handler\u001b[0m\u001b[1;33m.\u001b[0m\u001b[0mcheck_response\u001b[0m\u001b[1;33m(\u001b[0m\u001b[0mresponse\u001b[0m\u001b[1;33m)\u001b[0m\u001b[1;33m\u001b[0m\u001b[1;33m\u001b[0m\u001b[0m\n\u001b[0m\u001b[0;32m    322\u001b[0m             response['value'] = self._unwrap_value(\n\u001b[0;32m    323\u001b[0m                 response.get('value', None))\n",
      "\u001b[1;32mC:\\Anaconda3\\lib\\site-packages\\selenium\\webdriver\\remote\\errorhandler.py\u001b[0m in \u001b[0;36mcheck_response\u001b[1;34m(self, response)\u001b[0m\n\u001b[0;32m    240\u001b[0m                 \u001b[0malert_text\u001b[0m \u001b[1;33m=\u001b[0m \u001b[0mvalue\u001b[0m\u001b[1;33m[\u001b[0m\u001b[1;34m'alert'\u001b[0m\u001b[1;33m]\u001b[0m\u001b[1;33m.\u001b[0m\u001b[0mget\u001b[0m\u001b[1;33m(\u001b[0m\u001b[1;34m'text'\u001b[0m\u001b[1;33m)\u001b[0m\u001b[1;33m\u001b[0m\u001b[1;33m\u001b[0m\u001b[0m\n\u001b[0;32m    241\u001b[0m             \u001b[1;32mraise\u001b[0m \u001b[0mexception_class\u001b[0m\u001b[1;33m(\u001b[0m\u001b[0mmessage\u001b[0m\u001b[1;33m,\u001b[0m \u001b[0mscreen\u001b[0m\u001b[1;33m,\u001b[0m \u001b[0mstacktrace\u001b[0m\u001b[1;33m,\u001b[0m \u001b[0malert_text\u001b[0m\u001b[1;33m)\u001b[0m\u001b[1;33m\u001b[0m\u001b[1;33m\u001b[0m\u001b[0m\n\u001b[1;32m--> 242\u001b[1;33m         \u001b[1;32mraise\u001b[0m \u001b[0mexception_class\u001b[0m\u001b[1;33m(\u001b[0m\u001b[0mmessage\u001b[0m\u001b[1;33m,\u001b[0m \u001b[0mscreen\u001b[0m\u001b[1;33m,\u001b[0m \u001b[0mstacktrace\u001b[0m\u001b[1;33m)\u001b[0m\u001b[1;33m\u001b[0m\u001b[1;33m\u001b[0m\u001b[0m\n\u001b[0m\u001b[0;32m    243\u001b[0m \u001b[1;33m\u001b[0m\u001b[0m\n\u001b[0;32m    244\u001b[0m     \u001b[1;32mdef\u001b[0m \u001b[0m_value_or_default\u001b[0m\u001b[1;33m(\u001b[0m\u001b[0mself\u001b[0m\u001b[1;33m,\u001b[0m \u001b[0mobj\u001b[0m\u001b[1;33m,\u001b[0m \u001b[0mkey\u001b[0m\u001b[1;33m,\u001b[0m \u001b[0mdefault\u001b[0m\u001b[1;33m)\u001b[0m\u001b[1;33m:\u001b[0m\u001b[1;33m\u001b[0m\u001b[1;33m\u001b[0m\u001b[0m\n",
      "\u001b[1;31mNoSuchElementException\u001b[0m: Message: no such element: Unable to locate element: {\"method\":\"css selector\",\"selector\":\"[name=\"PASSDM\"]\"}\n  (Session info: chrome=91.0.4472.124)\n"
     ]
    }
   ],
   "source": [
    "name_pw = driver.find_element_by_name(\"PASSDM\")\n",
    "name_pw.send_keys(my_pw, Keys.ENTER)"
   ]
  },
  {
   "cell_type": "code",
   "execution_count": 10,
   "id": "b5f8d685",
   "metadata": {},
   "outputs": [],
   "source": [
    "search_box = driver.find_element_by_name(\"q\")\n",
    "search_box.send_keys(\"파이썬 데이터분석\", Keys.ENTER)"
   ]
  },
  {
   "cell_type": "code",
   "execution_count": null,
   "id": "d4cff2bc",
   "metadata": {},
   "outputs": [],
   "source": []
  },
  {
   "cell_type": "code",
   "execution_count": 11,
   "id": "7cb111f3",
   "metadata": {},
   "outputs": [],
   "source": [
    "from selenium import webdriver\n",
    "from selenium.webdriver.common.keys import Keys\n",
    "\n",
    "driver = webdriver.Chrome(\"c:/jswoo/chromedriver\")"
   ]
  },
  {
   "cell_type": "code",
   "execution_count": 12,
   "id": "74751a9e",
   "metadata": {},
   "outputs": [],
   "source": [
    "url = \"https://nid.naver.com/nidlogin.login?mode=form&url=https%3A%2F%2Fwww.naver.com\"\n",
    "driver.get(url)\n",
    "\n",
    "name_id = driver.find_element_by_name(\"id\")\n",
    "name_id.clear()\n",
    "name_id.send_keys(\"jswoo\")\n",
    "\n",
    "name_pw = driver.find_element_by_name(\"pw\")\n",
    "name_pw.send_keys(my_pw, Keys.ENTER)"
   ]
  },
  {
   "cell_type": "code",
   "execution_count": null,
   "id": "52158a24",
   "metadata": {},
   "outputs": [],
   "source": []
  },
  {
   "cell_type": "code",
   "execution_count": null,
   "id": "0931ff72",
   "metadata": {},
   "outputs": [],
   "source": [
    "### ( 실습.. 유튜브 사이트 ) \n",
    "1. 검색 박스 -> \"파이썬 데이터분석\" 후 검색\n",
    "2. 검색 결과 source에 받기 \n",
    "3. source를 bs4로 soup 만들기 "
   ]
  },
  {
   "cell_type": "code",
   "execution_count": 31,
   "id": "2dcb2ba0",
   "metadata": {},
   "outputs": [],
   "source": [
    "from selenium import webdriver\n",
    "from selenium.webdriver.common.keys import Keys\n",
    "\n",
    "driver = webdriver.Chrome(\"c:/jswoo/chromedriver\")"
   ]
  },
  {
   "cell_type": "code",
   "execution_count": 30,
   "id": "c2cc1519",
   "metadata": {},
   "outputs": [],
   "source": [
    "# 브라우저 실행하지 않고 진행 \n",
    "from selenium import webdriver\n",
    "from selenium.webdriver.common.keys import Keys\n",
    "options = webdriver.ChromeOptions()\n",
    "options.add_argument(\"headless\")\n",
    "\n",
    "driver = webdriver.Chrome(\"c:/jswoo/chromedriver\", options=options)"
   ]
  },
  {
   "cell_type": "code",
   "execution_count": 35,
   "id": "1cd56c60",
   "metadata": {
    "scrolled": true
   },
   "outputs": [
    {
     "name": "stdout",
     "output_type": "stream",
     "text": [
      "bef =  3526486\n"
     ]
    }
   ],
   "source": [
    "url = \"http://www.youtube.com\"\n",
    "driver.get(url)\n",
    "\n",
    "import time\n",
    "time.sleep(0.5)\n",
    "\n",
    "search = driver.find_element_by_id(\"search\") \n",
    "search.send_keys(\"파이썬 데이터분석\") \n",
    "time.sleep(0.5)\n",
    "search.send_keys(Keys.ENTER)\n",
    "\n",
    "source = driver.page_source\n",
    "print(\"bef = \", len(source))\n",
    "\n",
    "from bs4 import BeautifulSoup\n",
    "soup = BeautifulSoup(source, \"html.parser\") \n",
    " \n",
    "#soup.prettify() "
   ]
  },
  {
   "cell_type": "code",
   "execution_count": 36,
   "id": "56a2ab34",
   "metadata": {},
   "outputs": [
    {
     "name": "stdout",
     "output_type": "stream",
     "text": [
      "page_down =  1\n",
      "page_down =  2\n",
      "page_down =  3\n",
      "page_down =  4\n",
      "page_down =  5\n",
      "page_down =  6\n",
      "page_down =  7\n",
      "page_down =  8\n",
      "page_down =  9\n",
      "aft =  3953973\n"
     ]
    }
   ],
   "source": [
    "for page_down in range(1,10):\n",
    "    search.send_keys(Keys.PAGE_DOWN)\n",
    "    print(\"page_down = \", page_down)\n",
    "    time.sleep(0.5)\n",
    "res = driver.page_source\n",
    "print(\"aft = \", len(res))"
   ]
  },
  {
   "cell_type": "code",
   "execution_count": 37,
   "id": "2b228a9e",
   "metadata": {},
   "outputs": [
    {
     "name": "stdout",
     "output_type": "stream",
     "text": [
      "page_down =  1\n",
      "page_down =  2\n",
      "page_down =  3\n",
      "page_down =  4\n",
      "page_down =  5\n",
      "page_down =  6\n",
      "page_down =  7\n",
      "page_down =  8\n",
      "page_down =  9\n",
      "aft =  4139574\n"
     ]
    }
   ],
   "source": [
    "body = driver.find_element_by_tag_name(\"body\")\n",
    "for page_down in range(1,10):\n",
    "    body.send_keys(Keys.PAGE_DOWN)\n",
    "    print(\"page_down = \", page_down)\n",
    "    time.sleep(0.5)\n",
    "res = driver.page_source\n",
    "print(\"aft = \", len(res))"
   ]
  },
  {
   "cell_type": "code",
   "execution_count": null,
   "id": "ef403ea2",
   "metadata": {},
   "outputs": [],
   "source": []
  }
 ],
 "metadata": {
  "kernelspec": {
   "display_name": "Python 3",
   "language": "python",
   "name": "python3"
  },
  "language_info": {
   "codemirror_mode": {
    "name": "ipython",
    "version": 3
   },
   "file_extension": ".py",
   "mimetype": "text/x-python",
   "name": "python",
   "nbconvert_exporter": "python",
   "pygments_lexer": "ipython3",
   "version": "3.8.8"
  }
 },
 "nbformat": 4,
 "nbformat_minor": 5
}
