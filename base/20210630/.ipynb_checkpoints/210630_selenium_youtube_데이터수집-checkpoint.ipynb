{
 "cells": [
  {
   "cell_type": "markdown",
   "id": "5246dc47",
   "metadata": {},
   "source": [
    "### ( 유튜브 데이터 수집 ) \n",
    "1. 화면에서 검색어를 입력 받아 \n",
    "2. selenium으로 키워드 검색 \n",
    "3. source를 받아서 soup을 만듬\n",
    "4. 검색결과를 수집( 단일 영상 타입) \n",
    "   - \"h3\",{\"class\":\"title-and-badge style-scope ytd-video-renderer\"}\n",
    "   - 채널명, 영상제목, 영상url, 조회수, 영상등록날짜\n",
    "   - 데이터 프레임 만들기 \n",
    "5. 검색결과 수집(재생목록 타입)\n",
    "   - \"div\",{\"class\":\"style-scope ytd-playlist-renderer\"}\n",
    "   - 채널명, 재생목록제목, 재생목록url \n",
    "   - 재생목록 데이터 프레임 만들기"
   ]
  },
  {
   "cell_type": "code",
   "execution_count": null,
   "id": "2b50e59e",
   "metadata": {},
   "outputs": [],
   "source": []
  }
 ],
 "metadata": {
  "kernelspec": {
   "display_name": "Python 3",
   "language": "python",
   "name": "python3"
  },
  "language_info": {
   "codemirror_mode": {
    "name": "ipython",
    "version": 3
   },
   "file_extension": ".py",
   "mimetype": "text/x-python",
   "name": "python",
   "nbconvert_exporter": "python",
   "pygments_lexer": "ipython3",
   "version": "3.8.8"
  }
 },
 "nbformat": 4,
 "nbformat_minor": 5
}
