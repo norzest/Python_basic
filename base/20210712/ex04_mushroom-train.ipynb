{
 "cells": [
  {
   "cell_type": "markdown",
   "metadata": {
    "id": "oYIJtxydmRKG"
   },
   "source": [
    "####    #TODO를 찾아서 코드를 완성하세요"
   ]
  },
  {
   "cell_type": "code",
   "execution_count": 1,
   "metadata": {
    "id": "ixdq0VnmmRKH",
    "outputId": "394a4dd9-fe1a-4f7a-d0b1-e2639a25c984"
   },
   "outputs": [],
   "source": [
    "import pandas as pd\n",
    "from sklearn.ensemble import RandomForestClassifier  \n",
    "from sklearn import metrics\n",
    "from sklearn.model_selection import train_test_split  "
   ]
  },
  {
   "cell_type": "code",
   "execution_count": 2,
   "metadata": {
    "id": "XgXJmVg8mRKI"
   },
   "outputs": [],
   "source": [
    "mr = pd.read_csv(\"mushroom.csv\", header=None)  \n",
    " ## 파일 경로 때문에 colab에서는 이대로 실행 안될 수 있음\n",
    "\n",
    "label = []\n",
    "data = []\n",
    "attr_list = []"
   ]
  },
  {
   "cell_type": "markdown",
   "metadata": {
    "id": "4eXSYkTamRKJ"
   },
   "source": [
    "#### 문자로 되어있는 데이터를 숫자로 바꾸는 사례 중 하나"
   ]
  },
  {
   "cell_type": "code",
   "execution_count": 4,
   "metadata": {
    "id": "ihHo5Z6AmRKK"
   },
   "outputs": [],
   "source": [
    "# data와 label로 나누고\n",
    "# data 내부의 기호를 숫자로 변환하기(fit함수의 학습 데이터는 숫자이거나 숫자로 형변환이 가능해야함)\n",
    "\n",
    "for row_index, row in mr.iterrows(): # DataFrame객체 의 iterrows() 메소드를 for문과 함께 사용하면\n",
    "                                     # 행인덱스와, 행데이터를  한행 씩 반환\n",
    "    label.append(row.iloc[0]) #0번 컬럼에 독이 있는지 없는지 정보를 label리스트에 담는다.\n",
    "    row_data = []\n",
    "    for v in row.iloc[1:]:\n",
    "        row_data.append(ord(v)) #Return the Unicode code point for a one-character string.\n",
    "\n",
    "    data.append(row_data)"
   ]
  },
  {
   "cell_type": "code",
   "execution_count": 5,
   "metadata": {
    "id": "eeUYLTLVmRKK"
   },
   "outputs": [],
   "source": [
    "# 학습 전용과 테스트 전용 데이터로 나누기\n",
    "data_train, data_test, label_train, label_test = \\\n",
    "     train_test_split(data, label )"
   ]
  },
  {
   "cell_type": "code",
   "execution_count": 6,
   "metadata": {
    "id": "U_ryUfQ2mRKL",
    "outputId": "a6f60e93-9355-45d4-a81b-d49b616d2af9"
   },
   "outputs": [
    {
     "name": "stdout",
     "output_type": "stream",
     "text": [
      "정답률 = 1.0\n",
      "리포트 =\n",
      "               precision    recall  f1-score   support\n",
      "\n",
      "           e       1.00      1.00      1.00      1062\n",
      "           p       1.00      1.00      1.00       969\n",
      "\n",
      "    accuracy                           1.00      2031\n",
      "   macro avg       1.00      1.00      1.00      2031\n",
      "weighted avg       1.00      1.00      1.00      2031\n",
      "\n"
     ]
    }
   ],
   "source": [
    "# 데이터 학습\n",
    "clf = RandomForestClassifier() \n",
    "clf.fit(data_train, label_train )\n",
    "\n",
    "# 데이터 예측\n",
    "pre = clf.predict( data_test )\n",
    "\n",
    "# 결과 테스트\n",
    "ac_score = metrics.accuracy_score( label_test, pre )\n",
    "cl_report = metrics.classification_report( label_test, pre )\n",
    "\n",
    "print(\"정답률 =\", ac_score)\n",
    "print(\"리포트 =\\n\", cl_report)"
   ]
  },
  {
   "cell_type": "code",
   "execution_count": null,
   "metadata": {
    "id": "-4_7MIarmRKL"
   },
   "outputs": [],
   "source": []
  }
 ],
 "metadata": {
  "colab": {
   "collapsed_sections": [],
   "name": "ex04_mushroom-train.ipynb",
   "provenance": []
  },
  "kernelspec": {
   "display_name": "Python 3",
   "language": "python",
   "name": "python3"
  },
  "language_info": {
   "codemirror_mode": {
    "name": "ipython",
    "version": 3
   },
   "file_extension": ".py",
   "mimetype": "text/x-python",
   "name": "python",
   "nbconvert_exporter": "python",
   "pygments_lexer": "ipython3",
   "version": "3.7.7"
  }
 },
 "nbformat": 4,
 "nbformat_minor": 4
}
