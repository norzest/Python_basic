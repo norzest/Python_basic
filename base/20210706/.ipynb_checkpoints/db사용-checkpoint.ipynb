{
 "cells": [
  {
   "cell_type": "code",
   "execution_count": 1,
   "metadata": {},
   "outputs": [],
   "source": [
    "import pymysql\n",
    "\n",
    "# DB 연결 \n",
    "conn = pymysql.connect(host=\"127.0.0.1\", user=\"kpc12\", password=\"kpc1212\" , db=\"pydb\" , charset=\"utf8\")\n",
    "cur = conn.cursor()"
   ]
  },
  {
   "cell_type": "code",
   "execution_count": 2,
   "metadata": {},
   "outputs": [
    {
     "name": "stdin",
     "output_type": "stream",
     "text": [
      "1.회원가입 2.회원검색 : 1\n",
      "이름: 홍길동\n",
      "아이디: hong2\n",
      "패스워드: 1234\n",
      "1.회원가입 2.회원검색 : 2\n",
      "검색할 이름: 홍길동\n"
     ]
    },
    {
     "name": "stdout",
     "output_type": "stream",
     "text": [
      "hong 홍길동 1234\n",
      "hong2 홍길동 1234\n"
     ]
    },
    {
     "name": "stdin",
     "output_type": "stream",
     "text": [
      "1.회원가입 2.회원검색 : ㅊ\n"
     ]
    }
   ],
   "source": [
    "while True:\n",
    "    menu = input(\"1.회원가입 2.회원검색 :\")\n",
    "    if menu == '1':\n",
    "        name = input(\"이름:\")\n",
    "        uid = input(\"아이디:\")\n",
    "        pwd = input(\"패스워드:\")\n",
    "        \n",
    "        insert_sql = f\"insert into user values ('{uid}','{name}','{pwd}')\" ;\n",
    "        cur.execute(insert_sql)\n",
    "        conn.commit()\n",
    "    \n",
    "    elif menu == '2':\n",
    "        searchName = input(\"검색할 이름:\")\n",
    "        select_sql = \"select * from user where name ='\" + searchName + \"'\" \n",
    "        cur.execute(select_sql)\n",
    "        \n",
    "        while True:\n",
    "            row = cur.fetchone() \n",
    "            if row == None:\n",
    "                break; \n",
    "            print(row[0], row[1], row[2])\n",
    "            \n",
    "    else:\n",
    "        break;\n",
    "        "
   ]
  },
  {
   "cell_type": "code",
   "execution_count": 9,
   "metadata": {},
   "outputs": [],
   "source": [
    "conn.commit()"
   ]
  }
 ],
 "metadata": {
  "kernelspec": {
   "display_name": "Python 3",
   "language": "python",
   "name": "python3"
  },
  "language_info": {
   "codemirror_mode": {
    "name": "ipython",
    "version": 3
   },
   "file_extension": ".py",
   "mimetype": "text/x-python",
   "name": "python",
   "nbconvert_exporter": "python",
   "pygments_lexer": "ipython3",
   "version": "3.7.7"
  }
 },
 "nbformat": 4,
 "nbformat_minor": 4
}
