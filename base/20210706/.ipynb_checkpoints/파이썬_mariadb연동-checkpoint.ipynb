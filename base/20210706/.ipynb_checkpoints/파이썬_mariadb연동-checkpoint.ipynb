{
 "cells": [
  {
   "cell_type": "markdown",
   "id": "12cae136",
   "metadata": {},
   "source": [
    "### [ 파이썬과 MariaDB 연동 ] \n",
    "pymysql 설치 \n"
   ]
  },
  {
   "cell_type": "code",
   "execution_count": null,
   "id": "104248c9",
   "metadata": {},
   "outputs": [],
   "source": [
    "pip install pymysql"
   ]
  },
  {
   "cell_type": "markdown",
   "id": "6285faa0",
   "metadata": {},
   "source": [
    "#### DB 연결"
   ]
  },
  {
   "cell_type": "code",
   "execution_count": 12,
   "id": "2df6fc47",
   "metadata": {},
   "outputs": [],
   "source": [
    "import #TODO \n",
    "\n",
    "# DB 연결 \n",
    "conn = #TODO   (host=\"127.0.0.1\", user=\"root\", #TODO ,   #TODO , charset=\"utf8\")\n",
    "cur = #TODO "
   ]
  },
  {
   "cell_type": "markdown",
   "id": "b24be52e",
   "metadata": {},
   "source": [
    "###### SQL 실행"
   ]
  },
  {
   "cell_type": "code",
   "execution_count": 16,
   "id": "3947c5d6",
   "metadata": {},
   "outputs": [],
   "source": [
    "sql1 =\"create table user (id varchar(100) primary key, name varchar(100), password varchar(100) ) DEFAULT CHARSET=utf8 \" "
   ]
  },
  {
   "cell_type": "code",
   "execution_count": 17,
   "id": "47962c7e",
   "metadata": {
    "scrolled": true
   },
   "outputs": [
    {
     "data": {
      "text/plain": [
       "0"
      ]
     },
     "execution_count": 17,
     "metadata": {},
     "output_type": "execute_result"
    }
   ],
   "source": [
    "#TODO"
   ]
  },
  {
   "cell_type": "code",
   "execution_count": 19,
   "id": "b67a0577",
   "metadata": {},
   "outputs": [
    {
     "data": {
      "text/plain": [
       "1"
      ]
     },
     "execution_count": 19,
     "metadata": {},
     "output_type": "execute_result"
    }
   ],
   "source": [
    "insert_sql1 = \"insert into user values ('hong','홍길동','1234')\" ;\n",
    "#TODO"
   ]
  },
  {
   "cell_type": "code",
   "execution_count": 20,
   "id": "0d5160c1",
   "metadata": {},
   "outputs": [
    {
     "data": {
      "text/plain": [
       "1"
      ]
     },
     "execution_count": 20,
     "metadata": {},
     "output_type": "execute_result"
    }
   ],
   "source": [
    "insert_sql2 = \"insert into user values ('lee','이길동','1234')\" ;\n",
    "#TODO"
   ]
  },
  {
   "cell_type": "code",
   "execution_count": 1,
   "id": "afd47f2a",
   "metadata": {},
   "outputs": [],
   "source": [
    "insert_sql3 = \"insert into user values ('kim','김길동','1234')\" ;\n",
    "#TODO"
   ]
  },
  {
   "cell_type": "markdown",
   "id": "d3a27c17",
   "metadata": {},
   "source": [
    "##### 커밋\n",
    " "
   ]
  },
  {
   "cell_type": "code",
   "execution_count": 22,
   "id": "dc6b5cbe",
   "metadata": {},
   "outputs": [],
   "source": [
    "#TODO"
   ]
  },
  {
   "cell_type": "markdown",
   "id": "2c6ad9bb",
   "metadata": {},
   "source": [
    "#### select "
   ]
  },
  {
   "cell_type": "code",
   "execution_count": 26,
   "id": "fff1ddab",
   "metadata": {},
   "outputs": [
    {
     "data": {
      "text/plain": [
       "3"
      ]
     },
     "execution_count": 26,
     "metadata": {},
     "output_type": "execute_result"
    }
   ],
   "source": [
    "select_sql = \"select * from user \" \n",
    "#TODO"
   ]
  },
  {
   "cell_type": "code",
   "execution_count": 27,
   "id": "fdd31619",
   "metadata": {},
   "outputs": [
    {
     "name": "stdout",
     "output_type": "stream",
     "text": [
      "hong 홍길동 1234\n",
      "kim 홍길동 1234\n",
      "lee 이길동 1234\n"
     ]
    }
   ],
   "source": [
    "while(True) :\n",
    "    row = #TODO \n",
    "    if row==None :\n",
    "        break; \n",
    "    #TODO"
   ]
  }
 ],
 "metadata": {
  "kernelspec": {
   "display_name": "Python 3",
   "language": "python",
   "name": "python3"
  },
  "language_info": {
   "codemirror_mode": {
    "name": "ipython",
    "version": 3
   },
   "file_extension": ".py",
   "mimetype": "text/x-python",
   "name": "python",
   "nbconvert_exporter": "python",
   "pygments_lexer": "ipython3",
   "version": "3.8.8"
  }
 },
 "nbformat": 4,
 "nbformat_minor": 5
}
