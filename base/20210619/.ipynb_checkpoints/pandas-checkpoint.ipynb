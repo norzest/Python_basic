{
 "cells": [
  {
   "cell_type": "code",
   "execution_count": 1,
   "metadata": {},
   "outputs": [
    {
     "name": "stdout",
     "output_type": "stream",
     "text": [
      "apple     2500\n",
      "banana    3800\n",
      "peer      1200\n",
      "cherry    6000\n",
      "dtype: int64\n"
     ]
    }
   ],
   "source": [
    "from pandas import Series, DataFrame\n",
    "import pandas as pd\n",
    "fruit = Series([2500,3800,1200,6000],index=['apple','banana','peer','cherry'])\n",
    "print(fruit) "
   ]
  },
  {
   "cell_type": "code",
   "execution_count": 2,
   "metadata": {},
   "outputs": [
    {
     "name": "stdout",
     "output_type": "stream",
     "text": [
      "[2500 3800 1200 6000]\n",
      "Index(['apple', 'banana', 'peer', 'cherry'], dtype='object')\n"
     ]
    }
   ],
   "source": [
    "print(fruit.values)\n",
    "print(fruit.index)"
   ]
  },
  {
   "cell_type": "code",
   "execution_count": 3,
   "metadata": {},
   "outputs": [
    {
     "name": "stdout",
     "output_type": "stream",
     "text": [
      "fruitName\n",
      "apple     2500\n",
      "banana    3800\n",
      "peer      1200\n",
      "cherry    6000\n",
      "Name: fruitPrice, dtype: int64\n"
     ]
    }
   ],
   "source": [
    "fruit.name = 'fruitPrice'\n",
    "fruit.index.name = 'fruitName'\n",
    "print(fruit)"
   ]
  },
  {
   "cell_type": "code",
   "execution_count": 4,
   "metadata": {},
   "outputs": [
    {
     "name": "stdout",
     "output_type": "stream",
     "text": [
      "  fruitName  fruitPrice  num\n",
      "0     apple        2500   10\n",
      "1    banana        3800    5\n",
      "2    cherry        6000    3\n",
      "3      peer        1200    8\n"
     ]
    }
   ],
   "source": [
    "fruitData = {'fruitName':['apple','banana','cherry','peer'],\n",
    "'fruitPrice':[2500,3800,6000,1200],\n",
    "'num':[10,5,3,8]}\n",
    "\n",
    "fruitFrame = DataFrame(fruitData)\n",
    "print(fruitFrame)"
   ]
  },
  {
   "cell_type": "code",
   "execution_count": 5,
   "metadata": {},
   "outputs": [
    {
     "name": "stdout",
     "output_type": "stream",
     "text": [
      "   num fruitName  fruitPrice\n",
      "0   10     apple        2500\n",
      "1    5    banana        3800\n",
      "2    3    cherry        6000\n",
      "3    8      peer        1200\n"
     ]
    }
   ],
   "source": [
    "fruitFrame = DataFrame(fruitData, columns = ['num', 'fruitName', 'fruitPrice'])\n",
    "print(fruitFrame)"
   ]
  },
  {
   "cell_type": "code",
   "execution_count": 6,
   "metadata": {},
   "outputs": [
    {
     "name": "stdout",
     "output_type": "stream",
     "text": [
      "0     apple\n",
      "1    banana\n",
      "2    cherry\n",
      "3      peer\n",
      "Name: fruitName, dtype: object\n"
     ]
    }
   ],
   "source": [
    "print(fruitFrame['fruitName'])"
   ]
  },
  {
   "cell_type": "code",
   "execution_count": 7,
   "metadata": {},
   "outputs": [
    {
     "name": "stdout",
     "output_type": "stream",
     "text": [
      "   num fruitName  fruitPrice  year\n",
      "0   10     apple        2500  2016\n",
      "1    5    banana        3800  2016\n",
      "2    3    cherry        6000  2016\n",
      "3    8      peer        1200  2016\n"
     ]
    }
   ],
   "source": [
    "fruitFrame['year'] = 2016\n",
    "print(fruitFrame)"
   ]
  },
  {
   "cell_type": "code",
   "execution_count": 8,
   "metadata": {},
   "outputs": [
    {
     "name": "stdout",
     "output_type": "stream",
     "text": [
      "   num fruitName  fruitPrice  year  stock\n",
      "0   10     apple        2500  2016    4.0\n",
      "1    5    banana        3800  2016    NaN\n",
      "2    3    cherry        6000  2016    2.0\n",
      "3    8      peer        1200  2016    1.0\n"
     ]
    }
   ],
   "source": [
    "variable=Series([4,2,1], index=[0,2,3])\n",
    "fruitFrame['stock'] = variable\n",
    "print(fruitFrame)"
   ]
  },
  {
   "cell_type": "code",
   "execution_count": 14,
   "metadata": {},
   "outputs": [
    {
     "name": "stdout",
     "output_type": "stream",
     "text": [
      "fruitName\n",
      "apple     2500\n",
      "peer      1200\n",
      "cherry    6000\n",
      "Name: fruitPrice, dtype: int64\n"
     ]
    }
   ],
   "source": [
    "fruit = fruit.drop('banana')\n",
    "print(fruit)"
   ]
  },
  {
   "cell_type": "code",
   "execution_count": 21,
   "metadata": {},
   "outputs": [],
   "source": [
    "fData = {'fruitName':['apple','banana','cherry','peer'],\n",
    "'fruitPrice':[2500,3800,6000,1200],\n",
    "'num':[10,5,3,8]}\n",
    "fName=fData['fruitName']\n",
    "\n",
    "fFrame = DataFrame(fData,index = fName,columns=['fruitPrice','num'])\n",
    "fFrame2=fFrame.drop(['apple','cherry'])"
   ]
  },
  {
   "cell_type": "code",
   "execution_count": 22,
   "metadata": {},
   "outputs": [
    {
     "name": "stdout",
     "output_type": "stream",
     "text": [
      "        fruitPrice  num\n",
      "apple         2500   10\n",
      "banana        3800    5\n",
      "cherry        6000    3\n",
      "peer          1200    8\n",
      "   num fruitName  fruitPrice  year  stock\n",
      "0   10     apple        2500  2016    4.0\n",
      "1    5    banana        3800  2016    NaN\n",
      "2    3    cherry        6000  2016    2.0\n",
      "3    8      peer        1200  2016    1.0\n"
     ]
    }
   ],
   "source": [
    "print(fFrame)\n",
    "print(fruitFrame)"
   ]
  },
  {
   "cell_type": "code",
   "execution_count": 31,
   "metadata": {
    "scrolled": true
   },
   "outputs": [
    {
     "name": "stdout",
     "output_type": "stream",
     "text": [
      "   num fruitName  fruitPrice  year\n",
      "0   10     apple        2500  2016\n",
      "1    5    banana        3800  2016\n",
      "3    8      peer        1200  2016\n"
     ]
    }
   ],
   "source": [
    "#fruitFrame = fruitFrame.drop('stock', axis = 1)\n",
    "print(fruitFrame)"
   ]
  },
  {
   "cell_type": "code",
   "execution_count": 33,
   "metadata": {},
   "outputs": [
    {
     "name": "stdout",
     "output_type": "stream",
     "text": [
      "fruitName\n",
      "peer      1200\n",
      "cherry    6000\n",
      "Name: fruitPrice, dtype: int64\n"
     ]
    }
   ],
   "source": [
    "print(fruit['peer':'cherry'])\n",
    "print(fruitFrame)\n",
    "# 65p"
   ]
  },
  {
   "cell_type": "code",
   "execution_count": null,
   "metadata": {},
   "outputs": [],
   "source": []
  }
 ],
 "metadata": {
  "kernelspec": {
   "display_name": "Python 3",
   "language": "python",
   "name": "python3"
  },
  "language_info": {
   "codemirror_mode": {
    "name": "ipython",
    "version": 3
   },
   "file_extension": ".py",
   "mimetype": "text/x-python",
   "name": "python",
   "nbconvert_exporter": "python",
   "pygments_lexer": "ipython3",
   "version": "3.7.7"
  }
 },
 "nbformat": 4,
 "nbformat_minor": 4
}
