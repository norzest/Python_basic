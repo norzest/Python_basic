{
 "cells": [
  {
   "cell_type": "markdown",
   "metadata": {},
   "source": [
    "1)\n",
    "핸드폰전화번호를 입력받고 전화번호 형식에 맞는 지 확인하는 \n",
    "프로그램을 작성하세요.  \n",
    "단, 다음과 같은 형식이어야 합니다. 010-1111-2222 \n",
    "\n",
    "\n",
    "2) \n",
    "생년월일을 입력받고 형식에 맞는지  확인하는 \n",
    "프로그램을 작성하세요.  \n",
    "단,다음과 같은 형식이어야 합니다.     \n",
    "    901211   즉, 년도2자리,  월2자리,  일2자리"
   ]
  },
  {
   "cell_type": "code",
   "execution_count": 13,
   "metadata": {},
   "outputs": [
    {
     "name": "stdout",
     "output_type": "stream",
     "text": [
      "정상 입력\n"
     ]
    }
   ],
   "source": [
    "import re\n",
    "\n",
    "# num = input('입력:')\n",
    "num = '010-1111-2222'\n",
    "r = re.search('^\\d{3}-\\d{4}-\\d{4}$', num)\n",
    "\n",
    "if r != None:\n",
    "    print('정상 입력')\n",
    "else:\n",
    "    print('다시 입력하세요')"
   ]
  },
  {
   "cell_type": "code",
   "execution_count": 66,
   "metadata": {},
   "outputs": [
    {
     "name": "stdout",
     "output_type": "stream",
     "text": [
      "정상 입력\n"
     ]
    }
   ],
   "source": [
    "day = ['28|29|30|31', '28', '28|29|30|31', '28|29|30',\n",
    "       '28|29|30|31', '28|29|30', '28|29|30|31',\n",
    "       '28|29|30|31', '28|29|30', '28|29|30|31',\n",
    "       '28|29|30', '28|29|30|31']\n",
    "bd = '960107'\n",
    "\n",
    "# 윤년 판별\n",
    "year = int(bd[:2])\n",
    "if ((year % 4 == 0 and year % 100 != 0) or year % 400 == 0):\n",
    "    day[1] = '28|29'\n",
    "\n",
    "try:\n",
    "    r = re.search('^\\d{2}(0[1-9]|11|12)([0-2][0-7]|' +\n",
    "                  day[int(bd[2:4]) - 1] + ')$', bd)\n",
    "    if r != None:\n",
    "        print('정상 입력')\n",
    "    else:\n",
    "        print('다시 입력하세요')\n",
    "except Exception:\n",
    "    print('다시 입력하세요')\n",
    "    \n"
   ]
  },
  {
   "cell_type": "markdown",
   "metadata": {},
   "source": [
    "주민등록번호를 입력받습니다. \n",
    "주민등록번호가 모두 숫자로 되어 있지 않으면, \"숫자로 입력하세요\".메세지 출력.\n",
    "주민등록번호가 14자리가 아니면 \"13자리로 입력하세요\" 메세지 출력. \n",
    "올바르게 입력되면 남자인지 여자인지 출력합니다.  \n",
    "7번째 자리가 1이면 \"남자\", 2면 \"여자\"  "
   ]
  },
  {
   "cell_type": "code",
   "execution_count": 46,
   "metadata": {},
   "outputs": [
    {
     "name": "stdout",
     "output_type": "stream",
     "text": [
      "여자\n"
     ]
    }
   ],
   "source": [
    "rn = '960107-2111111'\n",
    "rn = rn.replace('-', '')\n",
    "\n",
    "if re.search('\\D', rn) != None:\n",
    "    print('숫자로 입력하세요')\n",
    "elif re.search('^\\d{13}$', rn) == None:\n",
    "    print('13자리로 입력하세요')\n",
    "else:\n",
    "    if rn[6] == '1':\n",
    "        print('남자')\n",
    "    else:\n",
    "        print('여자')\n"
   ]
  }
 ],
 "metadata": {
  "kernelspec": {
   "display_name": "Python 3",
   "language": "python",
   "name": "python3"
  },
  "language_info": {
   "codemirror_mode": {
    "name": "ipython",
    "version": 3
   },
   "file_extension": ".py",
   "mimetype": "text/x-python",
   "name": "python",
   "nbconvert_exporter": "python",
   "pygments_lexer": "ipython3",
   "version": "3.7.7"
  }
 },
 "nbformat": 4,
 "nbformat_minor": 4
}
