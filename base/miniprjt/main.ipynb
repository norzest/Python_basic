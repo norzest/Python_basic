{
 "cells": [
  {
   "cell_type": "code",
   "execution_count": 1,
   "metadata": {},
   "outputs": [],
   "source": [
    "import pandas as pd\n",
    "import numpy as np\n",
    "import seaborn as sns\n",
    "import statsmodels.api as sm\n",
    "import matplotlib\n",
    "import matplotlib.pyplot as plt\n",
    "from matplotlib import font_manager,rc\n",
    "from sklearn import datasets"
   ]
  },
  {
   "cell_type": "code",
   "execution_count": 2,
   "metadata": {},
   "outputs": [],
   "source": [
    "teenager = pd.read_csv(\"data/crime_teenager.csv\", encoding='cp949')\n",
    "night = pd.read_csv(\"data/nightlife_crime.csv\", encoding='cp949')"
   ]
  },
  {
   "cell_type": "code",
   "execution_count": 4,
   "metadata": {},
   "outputs": [
    {
     "data": {
      "text/html": [
       "<table class=\"simpletable\">\n",
       "<caption>OLS Regression Results</caption>\n",
       "<tr>\n",
       "  <th>Dep. Variable:</th>          <td>thief</td>      <th>  R-squared:         </th> <td>   0.752</td>\n",
       "</tr>\n",
       "<tr>\n",
       "  <th>Model:</th>                   <td>OLS</td>       <th>  Adj. R-squared:    </th> <td>   0.714</td>\n",
       "</tr>\n",
       "<tr>\n",
       "  <th>Method:</th>             <td>Least Squares</td>  <th>  F-statistic:       </th> <td>   19.73</td>\n",
       "</tr>\n",
       "<tr>\n",
       "  <th>Date:</th>             <td>Sat, 10 Jul 2021</td> <th>  Prob (F-statistic):</th> <td>1.43e-07</td>\n",
       "</tr>\n",
       "<tr>\n",
       "  <th>Time:</th>                 <td>16:41:28</td>     <th>  Log-Likelihood:    </th> <td> -150.14</td>\n",
       "</tr>\n",
       "<tr>\n",
       "  <th>No. Observations:</th>      <td>    31</td>      <th>  AIC:               </th> <td>   310.3</td>\n",
       "</tr>\n",
       "<tr>\n",
       "  <th>Df Residuals:</th>          <td>    26</td>      <th>  BIC:               </th> <td>   317.5</td>\n",
       "</tr>\n",
       "<tr>\n",
       "  <th>Df Model:</th>              <td>     4</td>      <th>                     </th>     <td> </td>   \n",
       "</tr>\n",
       "<tr>\n",
       "  <th>Covariance Type:</th>      <td>nonrobust</td>    <th>                     </th>     <td> </td>   \n",
       "</tr>\n",
       "</table>\n",
       "<table class=\"simpletable\">\n",
       "<tr>\n",
       "        <td></td>           <th>coef</th>     <th>std err</th>      <th>t</th>      <th>P>|t|</th>  <th>[0.025</th>    <th>0.975]</th>  \n",
       "</tr>\n",
       "<tr>\n",
       "  <th>const</th>         <td>   31.4696</td> <td>   12.583</td> <td>    2.501</td> <td> 0.019</td> <td>    5.604</td> <td>   57.335</td>\n",
       "</tr>\n",
       "<tr>\n",
       "  <th>violence</th>      <td>    0.7002</td> <td>    0.094</td> <td>    7.487</td> <td> 0.000</td> <td>    0.508</td> <td>    0.892</td>\n",
       "</tr>\n",
       "<tr>\n",
       "  <th>forcible_rape</th> <td>    0.6967</td> <td>    1.168</td> <td>    0.597</td> <td> 0.556</td> <td>   -1.704</td> <td>    3.097</td>\n",
       "</tr>\n",
       "<tr>\n",
       "  <th>murder</th>        <td>   24.8638</td> <td>   20.462</td> <td>    1.215</td> <td> 0.235</td> <td>  -17.195</td> <td>   66.923</td>\n",
       "</tr>\n",
       "<tr>\n",
       "  <th>robbery</th>       <td>   -1.2044</td> <td>    2.890</td> <td>   -0.417</td> <td> 0.680</td> <td>   -7.145</td> <td>    4.736</td>\n",
       "</tr>\n",
       "</table>\n",
       "<table class=\"simpletable\">\n",
       "<tr>\n",
       "  <th>Omnibus:</th>       <td> 2.130</td> <th>  Durbin-Watson:     </th> <td>   1.955</td>\n",
       "</tr>\n",
       "<tr>\n",
       "  <th>Prob(Omnibus):</th> <td> 0.345</td> <th>  Jarque-Bera (JB):  </th> <td>   1.670</td>\n",
       "</tr>\n",
       "<tr>\n",
       "  <th>Skew:</th>          <td> 0.563</td> <th>  Prob(JB):          </th> <td>   0.434</td>\n",
       "</tr>\n",
       "<tr>\n",
       "  <th>Kurtosis:</th>      <td> 2.836</td> <th>  Cond. No.          </th> <td>    476.</td>\n",
       "</tr>\n",
       "</table><br/><br/>Warnings:<br/>[1] Standard Errors assume that the covariance matrix of the errors is correctly specified."
      ],
      "text/plain": [
       "<class 'statsmodels.iolib.summary.Summary'>\n",
       "\"\"\"\n",
       "                            OLS Regression Results                            \n",
       "==============================================================================\n",
       "Dep. Variable:                  thief   R-squared:                       0.752\n",
       "Model:                            OLS   Adj. R-squared:                  0.714\n",
       "Method:                 Least Squares   F-statistic:                     19.73\n",
       "Date:                Sat, 10 Jul 2021   Prob (F-statistic):           1.43e-07\n",
       "Time:                        16:41:28   Log-Likelihood:                -150.14\n",
       "No. Observations:                  31   AIC:                             310.3\n",
       "Df Residuals:                      26   BIC:                             317.5\n",
       "Df Model:                           4                                         \n",
       "Covariance Type:            nonrobust                                         \n",
       "=================================================================================\n",
       "                    coef    std err          t      P>|t|      [0.025      0.975]\n",
       "---------------------------------------------------------------------------------\n",
       "const            31.4696     12.583      2.501      0.019       5.604      57.335\n",
       "violence          0.7002      0.094      7.487      0.000       0.508       0.892\n",
       "forcible_rape     0.6967      1.168      0.597      0.556      -1.704       3.097\n",
       "murder           24.8638     20.462      1.215      0.235     -17.195      66.923\n",
       "robbery          -1.2044      2.890     -0.417      0.680      -7.145       4.736\n",
       "==============================================================================\n",
       "Omnibus:                        2.130   Durbin-Watson:                   1.955\n",
       "Prob(Omnibus):                  0.345   Jarque-Bera (JB):                1.670\n",
       "Skew:                           0.563   Prob(JB):                        0.434\n",
       "Kurtosis:                       2.836   Cond. No.                         476.\n",
       "==============================================================================\n",
       "\n",
       "Warnings:\n",
       "[1] Standard Errors assume that the covariance matrix of the errors is correctly specified.\n",
       "\"\"\""
      ]
     },
     "execution_count": 4,
     "metadata": {},
     "output_type": "execute_result"
    }
   ],
   "source": [
    "df = teenager.copy()\n",
    "x_data = df[['violence','forcible_rape','murder','robbery']]\n",
    "target = df[['thief']]\n",
    "x_data1 = sm.add_constant(x_data, has_constant='add')\n",
    "\n",
    "multi_model = sm.OLS(target, x_data1)\n",
    "fitted_multi_model = multi_model.fit()\n",
    "fitted_multi_model.summary()"
   ]
  },
  {
   "cell_type": "code",
   "execution_count": null,
   "metadata": {},
   "outputs": [],
   "source": []
  }
 ],
 "metadata": {
  "kernelspec": {
   "display_name": "Python 3",
   "language": "python",
   "name": "python3"
  },
  "language_info": {
   "codemirror_mode": {
    "name": "ipython",
    "version": 3
   },
   "file_extension": ".py",
   "mimetype": "text/x-python",
   "name": "python",
   "nbconvert_exporter": "python",
   "pygments_lexer": "ipython3",
   "version": "3.7.7"
  }
 },
 "nbformat": 4,
 "nbformat_minor": 4
}
