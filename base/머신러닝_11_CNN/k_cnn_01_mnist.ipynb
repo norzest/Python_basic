{
 "cells": [
  {
   "cell_type": "code",
   "execution_count": 1,
   "metadata": {},
   "outputs": [],
   "source": [
    "###############################\n",
    "# 분류 CNN 모델링\n",
    "###############################\n",
    "import tensorflow.keras as keras\n",
    "from tensorflow.keras import models, layers\n",
    "\n",
    "def CNN(W,H,C , Nout):\n",
    "        model = models.Sequential()\n",
    "        model.add( layers.Conv2D(32, kernel_size(3,3), activation = \"relu\", input_shape=(W, H<C)))\n",
    "        model.add(layers.Conv2D(64, activation=\"relu\"))\n",
    "        model.add(layers.MaxPool2D(pool_size(2,2)))\n",
    "        model.add(layers.Dropout(0.25)   )\n",
    "        model.add(layers.Flatten())\n",
    "        model.add(layers.Dense(128, activation='relu'))\n",
    "        model.add(layers.Dropout(0.5))\n",
    "        model.add(layers.Dense(Nout, activation=\"softmax\"))\n",
    "\n",
    "        model.compile(loss=keras.losses.categorical_crossentropy,\n",
    "                      optimizer='rmsprop',\n",
    "                      metrics=['acc'])\n",
    "        return model;"
   ]
  },
  {
   "cell_type": "code",
   "execution_count": 2,
   "metadata": {},
   "outputs": [],
   "source": [
    "##############################################\n",
    "# Data\n",
    "##############################################\n",
    "from tensorflow.keras import datasets  # mnist\n",
    "from tensorflow.keras.utils import to_categorical  # to_categorical\n",
    "\n",
    "def Data_func():\n",
    "    (X_train, y_train), (X_test, y_test) = datasets.mnist.load_data()\n",
    "    \"\"\" 이미지 데이터 X ,  0~9까지 붙인 이름표를 Y   \n",
    "        70,000개의 데이터 중 60,000개를 학습 데이터로,  10,000개를 테스트 데이터로 읽어옵니다. \n",
    "    \"\"\"\n",
    "\n",
    "    Y_train = to_categorical(y_train)\n",
    "    Y_test = to_categorical(y_test)  \n",
    "    \"\"\"원-핫 인코딩을 위해 케라스의 np_utils 의 to_categorical() 함수를 사용\n",
    "     0 ~ 9까지의 정수 값을 갖는 형태가 아닌 0 이나 1로 이뤄진 벡터로 수정 \n",
    "     만약에 '3' 이라는 숫자이라면 [0, 0, 1, 0, 0, 0, 0, 0, 0]으로 변환 \n",
    "    \"\"\"\n",
    "\n",
    "    L, W, H = X_train.shape\n",
    "    print(L, W, H)  # 60000 28 28\n",
    "\n",
    "    X_train = X_train.reshape(60000, W, H,-1)\n",
    "    X_test = X_test.reshape(10000,W, H,-1)\n",
    "\n",
    "    X_train = X_train / 255.0\n",
    "    X_test = X_test / 255.0\n",
    "\n",
    "    return (X_train, Y_train), (X_test, Y_test)"
   ]
  },
  {
   "cell_type": "code",
   "execution_count": 3,
   "metadata": {},
   "outputs": [],
   "source": [
    "###########################\n",
    "# 학습 효과 분석\n",
    "###########################\n",
    "import matplotlib.pyplot as plt\n",
    "###############################\n",
    "# 분류 CNN 학습 및 테스트\n",
    "###############################\n",
    "def main():\n",
    "    number_of_class = 10\n",
    "    Nout = number_of_class\n",
    "\n",
    "    batch_size = 128\n",
    "    epochs = 10\n",
    "\n",
    "    (X_train, Y_train), (X_test, Y_test) = Data_func()\n",
    "    model = CNN(28,28,1,           Nout)\n",
    "               #width, hight, color\n",
    "\n",
    "    history = model.fit(X_train, Y_train,\n",
    "              batch_size=batch_size,\n",
    "              epochs=epochs,\n",
    "              validation_split=0.2)\n",
    "\n",
    "    score = model.evaluate(X_test, Y_test)\n",
    "    print()\n",
    "    print('Test loss:', score[0])\n",
    "    print('Test accuracy:', score[1])\n",
    "\n",
    "    history = history.history\n",
    "\n",
    "    \"\"\"정확도 변화 추이  그래프\"\"\"\n",
    "    plt.plot(history['accuracy'])\n",
    "    plt.plot(history['val_accuracy'])\n",
    "    plt.ylabel('Accuracy')\n",
    "    plt.xlabel('Epoch')\n",
    "    plt.legend(['Training', 'Verification'], loc=0)\n",
    "    plt.show()\n",
    "\n",
    "    \"\"\"Cost/Loss  변화 추이 그래프\"\"\"\n",
    "    plt.plot(history['loss'])\n",
    "    plt.plot(history['val_loss'])\n",
    "    plt.ylabel('Loss')\n",
    "    plt.xlabel('Epoch')\n",
    "    plt.legend(['Training', 'Verification'], loc=0)\n",
    "    plt.show()\n"
   ]
  },
  {
   "cell_type": "code",
   "execution_count": 7,
   "metadata": {},
   "outputs": [
    {
     "data": {
      "text/plain": [
       "'2.1.0'"
      ]
     },
     "execution_count": 7,
     "metadata": {},
     "output_type": "execute_result"
    }
   ],
   "source": [
    "import tensorflow\n",
    "tensorflow.__version__"
   ]
  }
 ],
 "metadata": {
  "kernelspec": {
   "display_name": "Python 3",
   "language": "python",
   "name": "python3"
  },
  "language_info": {
   "codemirror_mode": {
    "name": "ipython",
    "version": 3
   },
   "file_extension": ".py",
   "mimetype": "text/x-python",
   "name": "python",
   "nbconvert_exporter": "python",
   "pygments_lexer": "ipython3",
   "version": "3.7.7"
  }
 },
 "nbformat": 4,
 "nbformat_minor": 5
}
