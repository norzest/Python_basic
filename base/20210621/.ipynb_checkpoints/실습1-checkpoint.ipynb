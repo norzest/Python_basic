{
 "cells": [
  {
   "cell_type": "markdown",
   "metadata": {},
   "source": [
    "실습1) 화면에서 입력받아 총점과 평균을 구하기\n",
    "1. 화면에서 입력\n",
    "2, 국어 영어 수학 점수를 입력받는다\n",
    "  - 입력 데이터를 나눈다\n",
    "  - 리스트 인덱스\n",
    "3. 예) 85 75 90"
   ]
  },
  {
   "cell_type": "code",
   "execution_count": null,
   "metadata": {},
   "outputs": [],
   "source": [
    "arr = map(int, input('점수입력: ').split(' '))\n",
    "print('총점: ', sum(arr))\n",
    "print('평균: ', sum(arr)/len(arr))"
   ]
  },
  {
   "cell_type": "code",
   "execution_count": null,
   "metadata": {},
   "outputs": [],
   "source": []
  }
 ],
 "metadata": {
  "kernelspec": {
   "display_name": "Python 3",
   "language": "python",
   "name": "python3"
  },
  "language_info": {
   "codemirror_mode": {
    "name": "ipython",
    "version": 3
   },
   "file_extension": ".py",
   "mimetype": "text/x-python",
   "name": "python",
   "nbconvert_exporter": "python",
   "pygments_lexer": "ipython3",
   "version": "3.7.7"
  }
 },
 "nbformat": 4,
 "nbformat_minor": 4
}
