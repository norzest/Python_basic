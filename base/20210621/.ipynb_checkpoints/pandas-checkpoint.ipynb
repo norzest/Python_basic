{
 "cells": [
  {
   "cell_type": "code",
   "execution_count": 1,
   "metadata": {},
   "outputs": [],
   "source": [
    "from pandas import Series, DataFrame\n",
    "import pandas as pd"
   ]
  },
  {
   "cell_type": "code",
   "execution_count": 3,
   "metadata": {},
   "outputs": [
    {
     "name": "stdout",
     "output_type": "stream",
     "text": [
      "apple     2500\n",
      "banana    3800\n",
      "peer      1200\n",
      "cherry    6000\n",
      "dtype: int64\n",
      "  fruitName  fruitPrice  num\n",
      "0     apple        2500   10\n",
      "1    banana        3800    5\n",
      "2    cherry        6000    3\n",
      "3      peer        1200    8\n"
     ]
    }
   ],
   "source": [
    "fruitSeries = Serieses([2500, 3800, 1200, 6000],\n",
    "                     index=['apple', 'banana', 'peer', 'cherry'])\n",
    "fruitData = {'fruitName':['apple','banana','cherry','peer'],\n",
    "             'fruitPrice':[2500,3800,6000,1200],\n",
    "             'num':[10,5,3,8]}\n",
    "fruitFrame =DataFrame(fruitData)\n",
    "\n",
    "print(fruitSeries)\n",
    "print(fruitFrame)"
   ]
  },
  {
   "cell_type": "code",
   "execution_count": 4,
   "metadata": {},
   "outputs": [
    {
     "data": {
      "text/plain": [
       "array([2500, 3800, 1200, 6000], dtype=int64)"
      ]
     },
     "execution_count": 4,
     "metadata": {},
     "output_type": "execute_result"
    }
   ],
   "source": [
    "fruitSeries.values"
   ]
  },
  {
   "cell_type": "code",
   "execution_count": 5,
   "metadata": {},
   "outputs": [
    {
     "data": {
      "text/plain": [
       "<bound method Series.keys of apple     2500\n",
       "banana    3800\n",
       "peer      1200\n",
       "cherry    6000\n",
       "dtype: int64>"
      ]
     },
     "execution_count": 5,
     "metadata": {},
     "output_type": "execute_result"
    }
   ],
   "source": [
    "fruitSeries.keys"
   ]
  },
  {
   "cell_type": "code",
   "execution_count": null,
   "metadata": {},
   "outputs": [],
   "source": []
  }
 ],
 "metadata": {
  "kernelspec": {
   "display_name": "Python 3",
   "language": "python",
   "name": "python3"
  },
  "language_info": {
   "codemirror_mode": {
    "name": "ipython",
    "version": 3
   },
   "file_extension": ".py",
   "mimetype": "text/x-python",
   "name": "python",
   "nbconvert_exporter": "python",
   "pygments_lexer": "ipython3",
   "version": "3.7.7"
  }
 },
 "nbformat": 4,
 "nbformat_minor": 4
}
