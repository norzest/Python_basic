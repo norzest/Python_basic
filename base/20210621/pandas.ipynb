{
 "cells": [
  {
   "cell_type": "code",
   "execution_count": 7,
   "metadata": {},
   "outputs": [],
   "source": [
    "from pandas import Series, DataFrame\n",
    "import pandas as pd"
   ]
  },
  {
   "cell_type": "code",
   "execution_count": 8,
   "metadata": {},
   "outputs": [
    {
     "name": "stdout",
     "output_type": "stream",
     "text": [
      "apple     2500\n",
      "banana    3800\n",
      "peer      1200\n",
      "cherry    6000\n",
      "dtype: int64\n",
      "   fruitPrice  num fruitName\n",
      "0        2500   10     apple\n",
      "1        3800    5    banana\n",
      "2        6000    3    cherry\n",
      "3        1200    8      peer\n"
     ]
    }
   ],
   "source": [
    "fruitSeries = Series([2500, 3800, 1200, 6000],\n",
    "                     index=['apple', 'banana', 'peer', 'cherry'])\n",
    "fruitData = {'fruitName':['apple','banana','cherry','peer'],\n",
    "             'fruitPrice':[2500,3800,6000,1200],\n",
    "             'num':[10,5,3,8]}\n",
    "fruitFrame =DataFrame(fruitData, columns = ['fruitPrice', 'num', 'fruitName'])\n",
    "\n",
    "print(fruitSeries)\n",
    "print(fruitFrame)"
   ]
  },
  {
   "cell_type": "code",
   "execution_count": 4,
   "metadata": {},
   "outputs": [
    {
     "data": {
      "text/plain": [
       "array([2500, 3800, 1200, 6000], dtype=int64)"
      ]
     },
     "execution_count": 4,
     "metadata": {},
     "output_type": "execute_result"
    }
   ],
   "source": [
    "fruitSeries.values"
   ]
  },
  {
   "cell_type": "code",
   "execution_count": 5,
   "metadata": {
    "scrolled": true
   },
   "outputs": [
    {
     "data": {
      "text/plain": [
       "<bound method Series.keys of apple     2500\n",
       "banana    3800\n",
       "peer      1200\n",
       "cherry    6000\n",
       "dtype: int64>"
      ]
     },
     "execution_count": 5,
     "metadata": {},
     "output_type": "execute_result"
    }
   ],
   "source": [
    "fruitSeries.keys"
   ]
  },
  {
   "cell_type": "code",
   "execution_count": 9,
   "metadata": {
    "scrolled": true
   },
   "outputs": [
    {
     "name": "stdout",
     "output_type": "stream",
     "text": [
      "   fruitPrice  num fruitName  year\n",
      "0        2500   10     apple  2016\n",
      "1        3800    5    banana  2016\n",
      "2        6000    3    cherry  2016\n",
      "3        1200    8      peer  2016\n"
     ]
    }
   ],
   "source": [
    "fruitFrame['year'] = 2016\n",
    "print(fruitFrame)"
   ]
  },
  {
   "cell_type": "code",
   "execution_count": 10,
   "metadata": {
    "scrolled": true
   },
   "outputs": [
    {
     "name": "stdout",
     "output_type": "stream",
     "text": [
      "   fruitPrice  num fruitName  year  stock\n",
      "0        2500   10     apple  2016    4.0\n",
      "1        3800    5    banana  2016    NaN\n",
      "2        6000    3    cherry  2016    2.0\n",
      "3        1200    8      peer  2016    1.0\n"
     ]
    }
   ],
   "source": [
    "fruitFrame['stock'] = Series([4, 2, 1], index=[0, 2, 3])\n",
    "print(fruitFrame)"
   ]
  },
  {
   "cell_type": "code",
   "execution_count": 13,
   "metadata": {},
   "outputs": [
    {
     "name": "stdout",
     "output_type": "stream",
     "text": [
      "apple     2500\n",
      "banana    3800\n",
      "peer      1200\n",
      "cherry    6000\n",
      "dtype: int64\n",
      "apple     2500\n",
      "peer      1200\n",
      "cherry    6000\n",
      "dtype: int64\n"
     ]
    }
   ],
   "source": [
    "new_fruitSeries = fruitSeries.drop('banana', inplace=False)\n",
    "print(fruitSeries)\n",
    "print(new_fruitSeries)"
   ]
  },
  {
   "cell_type": "code",
   "execution_count": 20,
   "metadata": {},
   "outputs": [
    {
     "data": {
      "text/html": [
       "<div>\n",
       "<style scoped>\n",
       "    .dataframe tbody tr th:only-of-type {\n",
       "        vertical-align: middle;\n",
       "    }\n",
       "\n",
       "    .dataframe tbody tr th {\n",
       "        vertical-align: top;\n",
       "    }\n",
       "\n",
       "    .dataframe thead th {\n",
       "        text-align: right;\n",
       "    }\n",
       "</style>\n",
       "<table border=\"1\" class=\"dataframe\">\n",
       "  <thead>\n",
       "    <tr style=\"text-align: right;\">\n",
       "      <th></th>\n",
       "      <th>fruitPrice</th>\n",
       "      <th>num</th>\n",
       "      <th>fruitName</th>\n",
       "      <th>year</th>\n",
       "      <th>stock</th>\n",
       "    </tr>\n",
       "  </thead>\n",
       "  <tbody>\n",
       "    <tr>\n",
       "      <th>1</th>\n",
       "      <td>3800</td>\n",
       "      <td>5</td>\n",
       "      <td>banana</td>\n",
       "      <td>2016</td>\n",
       "      <td>NaN</td>\n",
       "    </tr>\n",
       "    <tr>\n",
       "      <th>2</th>\n",
       "      <td>6000</td>\n",
       "      <td>3</td>\n",
       "      <td>cherry</td>\n",
       "      <td>2016</td>\n",
       "      <td>2.0</td>\n",
       "    </tr>\n",
       "    <tr>\n",
       "      <th>3</th>\n",
       "      <td>1200</td>\n",
       "      <td>8</td>\n",
       "      <td>peer</td>\n",
       "      <td>2016</td>\n",
       "      <td>1.0</td>\n",
       "    </tr>\n",
       "  </tbody>\n",
       "</table>\n",
       "</div>"
      ],
      "text/plain": [
       "   fruitPrice  num fruitName  year  stock\n",
       "1        3800    5    banana  2016    NaN\n",
       "2        6000    3    cherry  2016    2.0\n",
       "3        1200    8      peer  2016    1.0"
      ]
     },
     "execution_count": 20,
     "metadata": {},
     "output_type": "execute_result"
    }
   ],
   "source": [
    "new_fruitFrame = fruitFrame.drop([0])\n",
    "new_fruitFrame"
   ]
  },
  {
   "cell_type": "code",
   "execution_count": 21,
   "metadata": {},
   "outputs": [
    {
     "name": "stdout",
     "output_type": "stream",
     "text": [
      "   fruitPrice  num fruitName  year  stock\n",
      "0        2500   10     apple  2016    4.0\n",
      "1        3800    5    banana  2016    NaN\n",
      "2        6000    3    cherry  2016    2.0\n",
      "3        1200    8      peer  2016    1.0\n",
      "   fruitPrice  num fruitName  year\n",
      "0        2500   10     apple  2016\n",
      "1        3800    5    banana  2016\n",
      "2        6000    3    cherry  2016\n",
      "3        1200    8      peer  2016\n"
     ]
    }
   ],
   "source": [
    "new_new_fruitFrame = fruitFrame.drop('stock', axis=1)\n",
    "print(fruitFrame)\n",
    "print(new_new_fruitFrame)"
   ]
  },
  {
   "cell_type": "code",
   "execution_count": 23,
   "metadata": {},
   "outputs": [
    {
     "data": {
      "text/html": [
       "<div>\n",
       "<style scoped>\n",
       "    .dataframe tbody tr th:only-of-type {\n",
       "        vertical-align: middle;\n",
       "    }\n",
       "\n",
       "    .dataframe tbody tr th {\n",
       "        vertical-align: top;\n",
       "    }\n",
       "\n",
       "    .dataframe thead th {\n",
       "        text-align: right;\n",
       "    }\n",
       "</style>\n",
       "<table border=\"1\" class=\"dataframe\">\n",
       "  <thead>\n",
       "    <tr style=\"text-align: right;\">\n",
       "      <th></th>\n",
       "      <th>fruitPrice</th>\n",
       "      <th>num</th>\n",
       "      <th>fruitName</th>\n",
       "      <th>year</th>\n",
       "      <th>stock</th>\n",
       "    </tr>\n",
       "  </thead>\n",
       "  <tbody>\n",
       "    <tr>\n",
       "      <th>1</th>\n",
       "      <td>3800</td>\n",
       "      <td>5</td>\n",
       "      <td>banana</td>\n",
       "      <td>2016</td>\n",
       "      <td>NaN</td>\n",
       "    </tr>\n",
       "    <tr>\n",
       "      <th>2</th>\n",
       "      <td>6000</td>\n",
       "      <td>3</td>\n",
       "      <td>cherry</td>\n",
       "      <td>2016</td>\n",
       "      <td>2.0</td>\n",
       "    </tr>\n",
       "  </tbody>\n",
       "</table>\n",
       "</div>"
      ],
      "text/plain": [
       "   fruitPrice  num fruitName  year  stock\n",
       "1        3800    5    banana  2016    NaN\n",
       "2        6000    3    cherry  2016    2.0"
      ]
     },
     "execution_count": 23,
     "metadata": {},
     "output_type": "execute_result"
    }
   ],
   "source": [
    "fruitFrame[1:3]"
   ]
  },
  {
   "cell_type": "code",
   "execution_count": 26,
   "metadata": {},
   "outputs": [
    {
     "data": {
      "text/plain": [
       "0    2500\n",
       "1    3800\n",
       "2    6000\n",
       "3    1200\n",
       "Name: fruitPrice, dtype: int64"
      ]
     },
     "execution_count": 26,
     "metadata": {},
     "output_type": "execute_result"
    }
   ],
   "source": [
    "fruitFrame['fruitPrice']"
   ]
  },
  {
   "cell_type": "code",
   "execution_count": 27,
   "metadata": {},
   "outputs": [
    {
     "data": {
      "text/html": [
       "<div>\n",
       "<style scoped>\n",
       "    .dataframe tbody tr th:only-of-type {\n",
       "        vertical-align: middle;\n",
       "    }\n",
       "\n",
       "    .dataframe tbody tr th {\n",
       "        vertical-align: top;\n",
       "    }\n",
       "\n",
       "    .dataframe thead th {\n",
       "        text-align: right;\n",
       "    }\n",
       "</style>\n",
       "<table border=\"1\" class=\"dataframe\">\n",
       "  <thead>\n",
       "    <tr style=\"text-align: right;\">\n",
       "      <th></th>\n",
       "      <th>fruitPrice</th>\n",
       "    </tr>\n",
       "  </thead>\n",
       "  <tbody>\n",
       "    <tr>\n",
       "      <th>0</th>\n",
       "      <td>2500</td>\n",
       "    </tr>\n",
       "    <tr>\n",
       "      <th>1</th>\n",
       "      <td>3800</td>\n",
       "    </tr>\n",
       "    <tr>\n",
       "      <th>2</th>\n",
       "      <td>6000</td>\n",
       "    </tr>\n",
       "    <tr>\n",
       "      <th>3</th>\n",
       "      <td>1200</td>\n",
       "    </tr>\n",
       "  </tbody>\n",
       "</table>\n",
       "</div>"
      ],
      "text/plain": [
       "   fruitPrice\n",
       "0        2500\n",
       "1        3800\n",
       "2        6000\n",
       "3        1200"
      ]
     },
     "execution_count": 27,
     "metadata": {},
     "output_type": "execute_result"
    }
   ],
   "source": [
    "fruitFrame[['fruitPrice']]"
   ]
  },
  {
   "cell_type": "code",
   "execution_count": 25,
   "metadata": {},
   "outputs": [
    {
     "data": {
      "text/html": [
       "<div>\n",
       "<style scoped>\n",
       "    .dataframe tbody tr th:only-of-type {\n",
       "        vertical-align: middle;\n",
       "    }\n",
       "\n",
       "    .dataframe tbody tr th {\n",
       "        vertical-align: top;\n",
       "    }\n",
       "\n",
       "    .dataframe thead th {\n",
       "        text-align: right;\n",
       "    }\n",
       "</style>\n",
       "<table border=\"1\" class=\"dataframe\">\n",
       "  <thead>\n",
       "    <tr style=\"text-align: right;\">\n",
       "      <th></th>\n",
       "      <th>fruitPrice</th>\n",
       "      <th>num</th>\n",
       "    </tr>\n",
       "  </thead>\n",
       "  <tbody>\n",
       "    <tr>\n",
       "      <th>0</th>\n",
       "      <td>2500</td>\n",
       "      <td>10</td>\n",
       "    </tr>\n",
       "    <tr>\n",
       "      <th>1</th>\n",
       "      <td>3800</td>\n",
       "      <td>5</td>\n",
       "    </tr>\n",
       "    <tr>\n",
       "      <th>2</th>\n",
       "      <td>6000</td>\n",
       "      <td>3</td>\n",
       "    </tr>\n",
       "    <tr>\n",
       "      <th>3</th>\n",
       "      <td>1200</td>\n",
       "      <td>8</td>\n",
       "    </tr>\n",
       "  </tbody>\n",
       "</table>\n",
       "</div>"
      ],
      "text/plain": [
       "   fruitPrice  num\n",
       "0        2500   10\n",
       "1        3800    5\n",
       "2        6000    3\n",
       "3        1200    8"
      ]
     },
     "execution_count": 25,
     "metadata": {},
     "output_type": "execute_result"
    }
   ],
   "source": [
    "fruitFrame[['fruitPrice', 'num']]"
   ]
  },
  {
   "cell_type": "code",
   "execution_count": 28,
   "metadata": {},
   "outputs": [
    {
     "name": "stdout",
     "output_type": "stream",
     "text": [
      "apple      5\n",
      "banana     9\n",
      "cherry    10\n",
      "peer       3\n",
      "dtype: int64\n",
      "apple      3\n",
      "orange     2\n",
      "banana     9\n",
      "cherry     5\n",
      "mango     10\n",
      "dtype: int64\n"
     ]
    },
    {
     "data": {
      "text/plain": [
       "apple      8.0\n",
       "banana    18.0\n",
       "cherry    15.0\n",
       "mango      NaN\n",
       "orange     NaN\n",
       "peer       NaN\n",
       "dtype: float64"
      ]
     },
     "execution_count": 28,
     "metadata": {},
     "output_type": "execute_result"
    }
   ],
   "source": [
    "fruit1 = Series([5,9,10,3],index = ['apple','banana','cherry','peer'])\n",
    "fruit2 = Series([3,2,9,5,10],index = ['apple','orange','banana','cherry','mango'])\n",
    "print(fruit1)\n",
    "print(fruit2)\n",
    "fruit1 + fruit2"
   ]
  },
  {
   "cell_type": "code",
   "execution_count": 29,
   "metadata": {},
   "outputs": [
    {
     "name": "stdout",
     "output_type": "stream",
     "text": [
      "        Ohio  Texas\n",
      "apple      4      0\n",
      "banana     8      1\n",
      "cherry     3      2\n",
      "peer       5      3\n",
      "        Ohio  Colorado\n",
      "apple      3         5\n",
      "orange     0         4\n",
      "banana     2         3\n",
      "cherry     1         6\n",
      "mango      7         0\n"
     ]
    },
    {
     "data": {
      "text/html": [
       "<div>\n",
       "<style scoped>\n",
       "    .dataframe tbody tr th:only-of-type {\n",
       "        vertical-align: middle;\n",
       "    }\n",
       "\n",
       "    .dataframe tbody tr th {\n",
       "        vertical-align: top;\n",
       "    }\n",
       "\n",
       "    .dataframe thead th {\n",
       "        text-align: right;\n",
       "    }\n",
       "</style>\n",
       "<table border=\"1\" class=\"dataframe\">\n",
       "  <thead>\n",
       "    <tr style=\"text-align: right;\">\n",
       "      <th></th>\n",
       "      <th>Colorado</th>\n",
       "      <th>Ohio</th>\n",
       "      <th>Texas</th>\n",
       "    </tr>\n",
       "  </thead>\n",
       "  <tbody>\n",
       "    <tr>\n",
       "      <th>apple</th>\n",
       "      <td>NaN</td>\n",
       "      <td>7.0</td>\n",
       "      <td>NaN</td>\n",
       "    </tr>\n",
       "    <tr>\n",
       "      <th>banana</th>\n",
       "      <td>NaN</td>\n",
       "      <td>10.0</td>\n",
       "      <td>NaN</td>\n",
       "    </tr>\n",
       "    <tr>\n",
       "      <th>cherry</th>\n",
       "      <td>NaN</td>\n",
       "      <td>4.0</td>\n",
       "      <td>NaN</td>\n",
       "    </tr>\n",
       "    <tr>\n",
       "      <th>mango</th>\n",
       "      <td>NaN</td>\n",
       "      <td>NaN</td>\n",
       "      <td>NaN</td>\n",
       "    </tr>\n",
       "    <tr>\n",
       "      <th>orange</th>\n",
       "      <td>NaN</td>\n",
       "      <td>NaN</td>\n",
       "      <td>NaN</td>\n",
       "    </tr>\n",
       "    <tr>\n",
       "      <th>peer</th>\n",
       "      <td>NaN</td>\n",
       "      <td>NaN</td>\n",
       "      <td>NaN</td>\n",
       "    </tr>\n",
       "  </tbody>\n",
       "</table>\n",
       "</div>"
      ],
      "text/plain": [
       "        Colorado  Ohio  Texas\n",
       "apple        NaN   7.0    NaN\n",
       "banana       NaN  10.0    NaN\n",
       "cherry       NaN   4.0    NaN\n",
       "mango        NaN   NaN    NaN\n",
       "orange       NaN   NaN    NaN\n",
       "peer         NaN   NaN    NaN"
      ]
     },
     "execution_count": 29,
     "metadata": {},
     "output_type": "execute_result"
    }
   ],
   "source": [
    "fruitData1 = {'Ohio' : [4,8,3,5],'Texas' : [0,1,2,3]}\n",
    "fruitFrame1 = DataFrame(fruitData1,columns=['Ohio','Texas'],index = ['apple','banana','cherry','peer'])\n",
    "fruitData2 = {'Ohio' : [3,0,2,1,7],'Colorado':[5,4,3,6,0]}\n",
    "fruitFrame2 = DataFrame(fruitData2,columns =['Ohio','Colorado'],index = ['apple','orange','banana','cherry','mango']) \n",
    "print(fruitFrame1)\n",
    "print(fruitFrame2)\n",
    "fruitFrame1 + fruitFrame2"
   ]
  },
  {
   "cell_type": "code",
   "execution_count": 37,
   "metadata": {},
   "outputs": [
    {
     "data": {
      "text/plain": [
       "peer      1200\n",
       "apple     2500\n",
       "banana    3800\n",
       "cherry    6000\n",
       "dtype: int64"
      ]
     },
     "execution_count": 37,
     "metadata": {},
     "output_type": "execute_result"
    }
   ],
   "source": [
    "fruitSeries.sort_values(ascending=True)"
   ]
  },
  {
   "cell_type": "code",
   "execution_count": 38,
   "metadata": {},
   "outputs": [
    {
     "data": {
      "text/plain": [
       "apple     2500\n",
       "banana    3800\n",
       "cherry    6000\n",
       "peer      1200\n",
       "dtype: int64"
      ]
     },
     "execution_count": 38,
     "metadata": {},
     "output_type": "execute_result"
    }
   ],
   "source": [
    "fruitSeries.sort_index(ascending=True)"
   ]
  },
  {
   "cell_type": "code",
   "execution_count": 40,
   "metadata": {},
   "outputs": [
    {
     "data": {
      "text/html": [
       "<div>\n",
       "<style scoped>\n",
       "    .dataframe tbody tr th:only-of-type {\n",
       "        vertical-align: middle;\n",
       "    }\n",
       "\n",
       "    .dataframe tbody tr th {\n",
       "        vertical-align: top;\n",
       "    }\n",
       "\n",
       "    .dataframe thead th {\n",
       "        text-align: right;\n",
       "    }\n",
       "</style>\n",
       "<table border=\"1\" class=\"dataframe\">\n",
       "  <thead>\n",
       "    <tr style=\"text-align: right;\">\n",
       "      <th></th>\n",
       "      <th>fruitPrice</th>\n",
       "      <th>num</th>\n",
       "      <th>fruitName</th>\n",
       "      <th>year</th>\n",
       "      <th>stock</th>\n",
       "    </tr>\n",
       "  </thead>\n",
       "  <tbody>\n",
       "    <tr>\n",
       "      <th>3</th>\n",
       "      <td>1200</td>\n",
       "      <td>8</td>\n",
       "      <td>peer</td>\n",
       "      <td>2016</td>\n",
       "      <td>1.0</td>\n",
       "    </tr>\n",
       "    <tr>\n",
       "      <th>0</th>\n",
       "      <td>2500</td>\n",
       "      <td>10</td>\n",
       "      <td>apple</td>\n",
       "      <td>2016</td>\n",
       "      <td>4.0</td>\n",
       "    </tr>\n",
       "    <tr>\n",
       "      <th>1</th>\n",
       "      <td>3800</td>\n",
       "      <td>5</td>\n",
       "      <td>banana</td>\n",
       "      <td>2016</td>\n",
       "      <td>NaN</td>\n",
       "    </tr>\n",
       "    <tr>\n",
       "      <th>2</th>\n",
       "      <td>6000</td>\n",
       "      <td>3</td>\n",
       "      <td>cherry</td>\n",
       "      <td>2016</td>\n",
       "      <td>2.0</td>\n",
       "    </tr>\n",
       "  </tbody>\n",
       "</table>\n",
       "</div>"
      ],
      "text/plain": [
       "   fruitPrice  num fruitName  year  stock\n",
       "3        1200    8      peer  2016    1.0\n",
       "0        2500   10     apple  2016    4.0\n",
       "1        3800    5    banana  2016    NaN\n",
       "2        6000    3    cherry  2016    2.0"
      ]
     },
     "execution_count": 40,
     "metadata": {},
     "output_type": "execute_result"
    }
   ],
   "source": [
    "fruitFrame.sort_values(by=['fruitPrice', 'num'])"
   ]
  },
  {
   "cell_type": "code",
   "execution_count": null,
   "metadata": {},
   "outputs": [],
   "source": []
  }
 ],
 "metadata": {
  "kernelspec": {
   "display_name": "Python 3",
   "language": "python",
   "name": "python3"
  },
  "language_info": {
   "codemirror_mode": {
    "name": "ipython",
    "version": 3
   },
   "file_extension": ".py",
   "mimetype": "text/x-python",
   "name": "python",
   "nbconvert_exporter": "python",
   "pygments_lexer": "ipython3",
   "version": "3.7.7"
  }
 },
 "nbformat": 4,
 "nbformat_minor": 4
}
