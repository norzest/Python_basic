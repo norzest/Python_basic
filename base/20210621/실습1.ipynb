{
 "cells": [
  {
   "cell_type": "markdown",
   "metadata": {},
   "source": [
    "# 실습1) 화면에서 입력받아 총점과 평균 구하기\n",
    "# 실습2) 점수는 1개부터 여러개 들어올 수 있음\n",
    "# 실습3) 평균 60점 이상 합격\n",
    "# 실습4) 과목당 40점 이하면 과락\n",
    "\n",
    "1. 화면에서 입력\n",
    "2, 각각의 점수를 입력받는다\n",
    "  - 입력 데이터를 나눈다\n",
    "  - 리스트 인덱스\n",
    "3. 예) 85 75 90"
   ]
  },
  {
   "cell_type": "code",
   "execution_count": 20,
   "metadata": {},
   "outputs": [
    {
     "name": "stdout",
     "output_type": "stream",
     "text": [
      "점수입력: 30 90 90\n",
      "총점: 210\n",
      "평균: 70.0\n",
      "기준 미달\n"
     ]
    }
   ],
   "source": [
    "score = list(map(int, input('점수입력: ').split(' ')))\n",
    "totalScore = sum(score)\n",
    "avgScore = round(totalScore/len(score), 2)\n",
    "print('총점:', totalScore)\n",
    "print('평균:', avgScore)\n",
    "if avgScore < 60:\n",
    "    print('불합격')\n",
    "else:\n",
    "    for s in score:\n",
    "        if s <= 40:\n",
    "            print('기준 미달'); break\n",
    "    else:\n",
    "        print('합격')"
   ]
  },
  {
   "cell_type": "code",
   "execution_count": null,
   "metadata": {},
   "outputs": [],
   "source": []
  }
 ],
 "metadata": {
  "kernelspec": {
   "display_name": "Python 3",
   "language": "python",
   "name": "python3"
  },
  "language_info": {
   "codemirror_mode": {
    "name": "ipython",
    "version": 3
   },
   "file_extension": ".py",
   "mimetype": "text/x-python",
   "name": "python",
   "nbconvert_exporter": "python",
   "pygments_lexer": "ipython3",
   "version": "3.7.7"
  }
 },
 "nbformat": 4,
 "nbformat_minor": 4
}
